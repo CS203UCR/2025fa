{
 "cells": [
  {
   "cell_type": "code",
   "execution_count": 1,
   "id": "3325cd24-6aa7-4cb6-a424-dc361d893ad8",
   "metadata": {},
   "outputs": [
    {
     "data": {
      "text/html": [
       "<style>h1 {font-size: 2vw;} h2 {font-size: 1.5vw;} p {font-size: 1.4vw;} div.prompt, code, output, prompt, kbd, pre, samp {font-family: 'SF Mono', 'Courier New', Courier, monospace, sans-serif !important;font-size: 1.4vw !important;}</style>"
      ],
      "text/plain": [
       "<IPython.core.display.HTML object>"
      ]
     },
     "metadata": {},
     "output_type": "display_data"
    }
   ],
   "source": [
    "# Please execute/shift-return this cell everytime you run the notebook.  Don't edit it. \n",
    "%load_ext autoreload\n",
    "%autoreload 2\n",
    "from notebook import * "
   ]
  },
  {
   "cell_type": "markdown",
   "id": "fcee10d0-3f20-43ba-bfaa-3c8565f9518d",
   "metadata": {},
   "source": [
    "### Matrix tiling algorithm with Transpositon/Registers/Rectangular/Prefetch\n",
    "\n"
   ]
  },
  {
   "cell_type": "markdown",
   "id": "73e2305b-2b3d-42fc-8cbc-42045219726d",
   "metadata": {
    "tags": []
   },
   "source": [
    "## Prefetch\n",
    "\n",
    "x86 provide prefetch instructions. As a programmer, you may insert ```_mm_prefetch``` in x86 programs to perform software prefetch for your code. The gcc compiler also has a flag ```-fprefetch-loop-arrays``` to automatically insert software prefetch instructions.\n",
    "\n",
    "### Using prefetch in matrix transpose code\n",
    "\n",
    "The following example is a highly optimized matrix transpose code. In the example, we try to prefetch the next row."
   ]
  },
  {
   "cell_type": "code",
   "execution_count": 2,
   "id": "02be7ff5-d956-40d2-9a30-58d6d23b83fe",
   "metadata": {},
   "outputs": [
    {
     "data": {
      "text/html": [
       "<style>pre { line-height: 125%; }\n",
       "td.linenos .normal { color: inherit; background-color: transparent; padding-left: 5px; padding-right: 5px; }\n",
       "span.linenos { color: inherit; background-color: transparent; padding-left: 5px; padding-right: 5px; }\n",
       "td.linenos .special { color: #000000; background-color: #ffffc0; padding-left: 5px; padding-right: 5px; }\n",
       "span.linenos.special { color: #000000; background-color: #ffffc0; padding-left: 5px; padding-right: 5px; }\n",
       ".output_html .hll { background-color: #ffffcc }\n",
       ".output_html { background: #f8f8f8; }\n",
       ".output_html .c { color: #3D7B7B; font-style: italic } /* Comment */\n",
       ".output_html .err { border: 1px solid #FF0000 } /* Error */\n",
       ".output_html .k { color: #008000; font-weight: bold } /* Keyword */\n",
       ".output_html .o { color: #666666 } /* Operator */\n",
       ".output_html .ch { color: #3D7B7B; font-style: italic } /* Comment.Hashbang */\n",
       ".output_html .cm { color: #3D7B7B; font-style: italic } /* Comment.Multiline */\n",
       ".output_html .cp { color: #9C6500 } /* Comment.Preproc */\n",
       ".output_html .cpf { color: #3D7B7B; font-style: italic } /* Comment.PreprocFile */\n",
       ".output_html .c1 { color: #3D7B7B; font-style: italic } /* Comment.Single */\n",
       ".output_html .cs { color: #3D7B7B; font-style: italic } /* Comment.Special */\n",
       ".output_html .gd { color: #A00000 } /* Generic.Deleted */\n",
       ".output_html .ge { font-style: italic } /* Generic.Emph */\n",
       ".output_html .ges { font-weight: bold; font-style: italic } /* Generic.EmphStrong */\n",
       ".output_html .gr { color: #E40000 } /* Generic.Error */\n",
       ".output_html .gh { color: #000080; font-weight: bold } /* Generic.Heading */\n",
       ".output_html .gi { color: #008400 } /* Generic.Inserted */\n",
       ".output_html .go { color: #717171 } /* Generic.Output */\n",
       ".output_html .gp { color: #000080; font-weight: bold } /* Generic.Prompt */\n",
       ".output_html .gs { font-weight: bold } /* Generic.Strong */\n",
       ".output_html .gu { color: #800080; font-weight: bold } /* Generic.Subheading */\n",
       ".output_html .gt { color: #0044DD } /* Generic.Traceback */\n",
       ".output_html .kc { color: #008000; font-weight: bold } /* Keyword.Constant */\n",
       ".output_html .kd { color: #008000; font-weight: bold } /* Keyword.Declaration */\n",
       ".output_html .kn { color: #008000; font-weight: bold } /* Keyword.Namespace */\n",
       ".output_html .kp { color: #008000 } /* Keyword.Pseudo */\n",
       ".output_html .kr { color: #008000; font-weight: bold } /* Keyword.Reserved */\n",
       ".output_html .kt { color: #B00040 } /* Keyword.Type */\n",
       ".output_html .m { color: #666666 } /* Literal.Number */\n",
       ".output_html .s { color: #BA2121 } /* Literal.String */\n",
       ".output_html .na { color: #687822 } /* Name.Attribute */\n",
       ".output_html .nb { color: #008000 } /* Name.Builtin */\n",
       ".output_html .nc { color: #0000FF; font-weight: bold } /* Name.Class */\n",
       ".output_html .no { color: #880000 } /* Name.Constant */\n",
       ".output_html .nd { color: #AA22FF } /* Name.Decorator */\n",
       ".output_html .ni { color: #717171; font-weight: bold } /* Name.Entity */\n",
       ".output_html .ne { color: #CB3F38; font-weight: bold } /* Name.Exception */\n",
       ".output_html .nf { color: #0000FF } /* Name.Function */\n",
       ".output_html .nl { color: #767600 } /* Name.Label */\n",
       ".output_html .nn { color: #0000FF; font-weight: bold } /* Name.Namespace */\n",
       ".output_html .nt { color: #008000; font-weight: bold } /* Name.Tag */\n",
       ".output_html .nv { color: #19177C } /* Name.Variable */\n",
       ".output_html .ow { color: #AA22FF; font-weight: bold } /* Operator.Word */\n",
       ".output_html .w { color: #bbbbbb } /* Text.Whitespace */\n",
       ".output_html .mb { color: #666666 } /* Literal.Number.Bin */\n",
       ".output_html .mf { color: #666666 } /* Literal.Number.Float */\n",
       ".output_html .mh { color: #666666 } /* Literal.Number.Hex */\n",
       ".output_html .mi { color: #666666 } /* Literal.Number.Integer */\n",
       ".output_html .mo { color: #666666 } /* Literal.Number.Oct */\n",
       ".output_html .sa { color: #BA2121 } /* Literal.String.Affix */\n",
       ".output_html .sb { color: #BA2121 } /* Literal.String.Backtick */\n",
       ".output_html .sc { color: #BA2121 } /* Literal.String.Char */\n",
       ".output_html .dl { color: #BA2121 } /* Literal.String.Delimiter */\n",
       ".output_html .sd { color: #BA2121; font-style: italic } /* Literal.String.Doc */\n",
       ".output_html .s2 { color: #BA2121 } /* Literal.String.Double */\n",
       ".output_html .se { color: #AA5D1F; font-weight: bold } /* Literal.String.Escape */\n",
       ".output_html .sh { color: #BA2121 } /* Literal.String.Heredoc */\n",
       ".output_html .si { color: #A45A77; font-weight: bold } /* Literal.String.Interpol */\n",
       ".output_html .sx { color: #008000 } /* Literal.String.Other */\n",
       ".output_html .sr { color: #A45A77 } /* Literal.String.Regex */\n",
       ".output_html .s1 { color: #BA2121 } /* Literal.String.Single */\n",
       ".output_html .ss { color: #19177C } /* Literal.String.Symbol */\n",
       ".output_html .bp { color: #008000 } /* Name.Builtin.Pseudo */\n",
       ".output_html .fm { color: #0000FF } /* Name.Function.Magic */\n",
       ".output_html .vc { color: #19177C } /* Name.Variable.Class */\n",
       ".output_html .vg { color: #19177C } /* Name.Variable.Global */\n",
       ".output_html .vi { color: #19177C } /* Name.Variable.Instance */\n",
       ".output_html .vm { color: #19177C } /* Name.Variable.Magic */\n",
       ".output_html .il { color: #666666 } /* Literal.Number.Integer.Long */</style><div class=\"highlight\"><pre><span></span><span class=\"c1\">// ./prefetch/transpose.cpp:42-63 (22 lines)</span>\n",
       "<span class=\"w\">    </span><span class=\"c1\">//START</span>\n",
       "<span class=\"w\">    </span><span class=\"c1\">//  Iterate each row.</span>\n",
       "<span class=\"w\">    </span><span class=\"n\">f_vector</span><span class=\"w\"> </span><span class=\"o\">*</span><span class=\"n\">y_iter</span><span class=\"w\"> </span><span class=\"o\">=</span><span class=\"w\"> </span><span class=\"n\">T</span><span class=\"p\">;</span>\n",
       "<span class=\"w\">    </span><span class=\"k\">do</span><span class=\"p\">{</span>\n",
       "<span class=\"w\">        </span><span class=\"c1\">//  Iterate each column.</span>\n",
       "<span class=\"w\">        </span><span class=\"n\">f_vector</span><span class=\"w\"> </span><span class=\"o\">*</span><span class=\"n\">ptr_x</span><span class=\"w\"> </span><span class=\"o\">=</span><span class=\"w\"> </span><span class=\"n\">y_iter</span><span class=\"w\"> </span><span class=\"o\">+</span><span class=\"w\"> </span><span class=\"n\">block</span><span class=\"p\">;</span>\n",
       "<span class=\"w\">        </span><span class=\"n\">f_vector</span><span class=\"w\"> </span><span class=\"o\">*</span><span class=\"n\">ptr_y</span><span class=\"w\"> </span><span class=\"o\">=</span><span class=\"w\"> </span><span class=\"n\">y_iter</span><span class=\"w\"> </span><span class=\"o\">+</span><span class=\"w\"> </span><span class=\"n\">row_size</span><span class=\"p\">;</span>\n",
       "\n",
       "<span class=\"w\">        </span><span class=\"k\">do</span><span class=\"p\">{</span>\n",
       "\n",
       "<span class=\"cp\">#ifdef ENABLE_PREFETCH</span>\n",
       "<span class=\"w\">            </span><span class=\"n\">_mm_prefetch</span><span class=\"p\">((</span><span class=\"kt\">char</span><span class=\"o\">*</span><span class=\"p\">)(</span><span class=\"n\">ptr_y</span><span class=\"w\"> </span><span class=\"o\">+</span><span class=\"w\"> </span><span class=\"n\">row_size</span><span class=\"p\">),</span><span class=\"n\">_MM_HINT_T0</span><span class=\"p\">);</span>\n",
       "<span class=\"cp\">#endif</span>\n",
       "<span class=\"w\">            </span><span class=\"n\">swap_block</span><span class=\"p\">(</span><span class=\"n\">ptr_x</span><span class=\"p\">,</span><span class=\"n\">ptr_y</span><span class=\"p\">,</span><span class=\"n\">block</span><span class=\"p\">);</span>\n",
       "\n",
       "<span class=\"w\">            </span><span class=\"n\">ptr_x</span><span class=\"w\"> </span><span class=\"o\">+=</span><span class=\"w\"> </span><span class=\"n\">block</span><span class=\"p\">;</span>\n",
       "<span class=\"w\">            </span><span class=\"n\">ptr_y</span><span class=\"w\"> </span><span class=\"o\">+=</span><span class=\"w\"> </span><span class=\"n\">row_size</span><span class=\"p\">;</span>\n",
       "<span class=\"w\">        </span><span class=\"p\">}</span><span class=\"k\">while</span><span class=\"w\"> </span><span class=\"p\">(</span><span class=\"n\">ptr_y</span><span class=\"w\"> </span><span class=\"o\">&lt;</span><span class=\"w\"> </span><span class=\"n\">stop_T</span><span class=\"p\">);</span>\n",
       "\n",
       "<span class=\"w\">        </span><span class=\"n\">y_iter</span><span class=\"w\"> </span><span class=\"o\">+=</span><span class=\"w\"> </span><span class=\"n\">iter_size</span><span class=\"p\">;</span>\n",
       "<span class=\"w\">    </span><span class=\"p\">}</span><span class=\"k\">while</span><span class=\"w\"> </span><span class=\"p\">(</span><span class=\"n\">y_iter</span><span class=\"w\"> </span><span class=\"o\">&lt;</span><span class=\"w\"> </span><span class=\"n\">end</span><span class=\"p\">);</span>\n",
       "<span class=\"w\">    </span><span class=\"c1\">//END</span>\n",
       "</pre></div>\n"
      ],
      "text/latex": [
       "\\begin{Verbatim}[commandchars=\\\\\\{\\}]\n",
       "\\PY{c+c1}{// ./prefetch/transpose.cpp:42\\PYZhy{}63 (22 lines)}\n",
       "\\PY{+w}{    }\\PY{c+c1}{//START}\n",
       "\\PY{+w}{    }\\PY{c+c1}{//  Iterate each row.}\n",
       "\\PY{+w}{    }\\PY{n}{f\\PYZus{}vector}\\PY{+w}{ }\\PY{o}{*}\\PY{n}{y\\PYZus{}iter}\\PY{+w}{ }\\PY{o}{=}\\PY{+w}{ }\\PY{n}{T}\\PY{p}{;}\n",
       "\\PY{+w}{    }\\PY{k}{do}\\PY{p}{\\PYZob{}}\n",
       "\\PY{+w}{        }\\PY{c+c1}{//  Iterate each column.}\n",
       "\\PY{+w}{        }\\PY{n}{f\\PYZus{}vector}\\PY{+w}{ }\\PY{o}{*}\\PY{n}{ptr\\PYZus{}x}\\PY{+w}{ }\\PY{o}{=}\\PY{+w}{ }\\PY{n}{y\\PYZus{}iter}\\PY{+w}{ }\\PY{o}{+}\\PY{+w}{ }\\PY{n}{block}\\PY{p}{;}\n",
       "\\PY{+w}{        }\\PY{n}{f\\PYZus{}vector}\\PY{+w}{ }\\PY{o}{*}\\PY{n}{ptr\\PYZus{}y}\\PY{+w}{ }\\PY{o}{=}\\PY{+w}{ }\\PY{n}{y\\PYZus{}iter}\\PY{+w}{ }\\PY{o}{+}\\PY{+w}{ }\\PY{n}{row\\PYZus{}size}\\PY{p}{;}\n",
       "\n",
       "\\PY{+w}{        }\\PY{k}{do}\\PY{p}{\\PYZob{}}\n",
       "\n",
       "\\PY{c+cp}{\\PYZsh{}}\\PY{c+cp}{ifdef ENABLE\\PYZus{}PREFETCH}\n",
       "\\PY{+w}{            }\\PY{n}{\\PYZus{}mm\\PYZus{}prefetch}\\PY{p}{(}\\PY{p}{(}\\PY{k+kt}{char}\\PY{o}{*}\\PY{p}{)}\\PY{p}{(}\\PY{n}{ptr\\PYZus{}y}\\PY{+w}{ }\\PY{o}{+}\\PY{+w}{ }\\PY{n}{row\\PYZus{}size}\\PY{p}{)}\\PY{p}{,}\\PY{n}{\\PYZus{}MM\\PYZus{}HINT\\PYZus{}T0}\\PY{p}{)}\\PY{p}{;}\n",
       "\\PY{c+cp}{\\PYZsh{}}\\PY{c+cp}{endif}\n",
       "\\PY{+w}{            }\\PY{n}{swap\\PYZus{}block}\\PY{p}{(}\\PY{n}{ptr\\PYZus{}x}\\PY{p}{,}\\PY{n}{ptr\\PYZus{}y}\\PY{p}{,}\\PY{n}{block}\\PY{p}{)}\\PY{p}{;}\n",
       "\n",
       "\\PY{+w}{            }\\PY{n}{ptr\\PYZus{}x}\\PY{+w}{ }\\PY{o}{+}\\PY{o}{=}\\PY{+w}{ }\\PY{n}{block}\\PY{p}{;}\n",
       "\\PY{+w}{            }\\PY{n}{ptr\\PYZus{}y}\\PY{+w}{ }\\PY{o}{+}\\PY{o}{=}\\PY{+w}{ }\\PY{n}{row\\PYZus{}size}\\PY{p}{;}\n",
       "\\PY{+w}{        }\\PY{p}{\\PYZcb{}}\\PY{k}{while}\\PY{+w}{ }\\PY{p}{(}\\PY{n}{ptr\\PYZus{}y}\\PY{+w}{ }\\PY{o}{\\PYZlt{}}\\PY{+w}{ }\\PY{n}{stop\\PYZus{}T}\\PY{p}{)}\\PY{p}{;}\n",
       "\n",
       "\\PY{+w}{        }\\PY{n}{y\\PYZus{}iter}\\PY{+w}{ }\\PY{o}{+}\\PY{o}{=}\\PY{+w}{ }\\PY{n}{iter\\PYZus{}size}\\PY{p}{;}\n",
       "\\PY{+w}{    }\\PY{p}{\\PYZcb{}}\\PY{k}{while}\\PY{+w}{ }\\PY{p}{(}\\PY{n}{y\\PYZus{}iter}\\PY{+w}{ }\\PY{o}{\\PYZlt{}}\\PY{+w}{ }\\PY{n}{end}\\PY{p}{)}\\PY{p}{;}\n",
       "\\PY{+w}{    }\\PY{c+c1}{//END}\n",
       "\\end{Verbatim}\n"
      ],
      "text/plain": [
       "// ./prefetch/transpose.cpp:42-63 (22 lines)\n",
       "    //START\n",
       "    //  Iterate each row.\n",
       "    f_vector *y_iter = T;\n",
       "    do{\n",
       "        //  Iterate each column.\n",
       "        f_vector *ptr_x = y_iter + block;\n",
       "        f_vector *ptr_y = y_iter + row_size;\n",
       "\n",
       "        do{\n",
       "\n",
       "#ifdef ENABLE_PREFETCH\n",
       "            _mm_prefetch((char*)(ptr_y + row_size),_MM_HINT_T0);\n",
       "#endif\n",
       "            swap_block(ptr_x,ptr_y,block);\n",
       "\n",
       "            ptr_x += block;\n",
       "            ptr_y += row_size;\n",
       "        }while (ptr_y < stop_T);\n",
       "\n",
       "        y_iter += iter_size;\n",
       "    }while (y_iter < end);\n",
       "    //END"
      ]
     },
     "metadata": {},
     "output_type": "display_data"
    }
   ],
   "source": [
    "render_code(\"./prefetch/transpose.cpp\", lang=\"c++\", show=[\"//START\", \"//END\"])"
   ]
  },
  {
   "cell_type": "markdown",
   "id": "366a9168-c2af-44be-8dd4-a2e403e675fc",
   "metadata": {
    "tags": []
   },
   "source": [
    "Now, let's take a look of what's happening!"
   ]
  },
  {
   "cell_type": "code",
   "execution_count": 3,
   "id": "de2f39c9-8b07-49f3-9420-4d87a2c38707",
   "metadata": {},
   "outputs": [
    {
     "name": "stdout",
     "output_type": "stream",
     "text": [
      "rm -f blockmm_sse blockmm blockmm_sse_prefetch transpose transpose_prefetch\n",
      "g++ -msse4.1 -mavx -O3 transpose.cpp -o transpose \n",
      "g++ -msse4.1 -mavx -O3 -DENABLE_PREFETCH transpose.cpp -o transpose_prefetch \n",
      "Without prefetch -- the baseline\n",
      "Model name:                              Intel(R) Core(TM) i7-14700K\n",
      "Model:                                   183\n",
      "bytes = 1073741824\n",
      "Starting Data Transpose...   Done\n",
      "Time: 0.13262 seconds\n",
      "With prefetch\n",
      "bytes = 1073741824\n",
      "Starting Data Transpose...   Done\n",
      "Time: 0.106772 seconds\n"
     ]
    }
   ],
   "source": [
    "! cd prefetch; make clean; make\n",
    "# ! echo \"Without prefetch -- the baseline\"; ssh htseng@celebi \"lscpu | grep Model; cd courses/CS203/demo/memory/prefetch/; ./transpose\"\n",
    "! echo \"Without prefetch -- the baseline\"\n",
    "! lscpu | grep Model\n",
    "! ./prefetch/transpose\n",
    "! echo \"With prefetch\"\n",
    "! ./prefetch/transpose_prefetch"
   ]
  },
  {
   "cell_type": "markdown",
   "id": "3e87381b-c372-4ceb-b7ee-16d51ea5beb7",
   "metadata": {},
   "source": [
    "Let's try a different machine now."
   ]
  },
  {
   "cell_type": "code",
   "execution_count": 4,
   "id": "0c91d319-f316-457e-b2ab-d38de99b9de3",
   "metadata": {},
   "outputs": [
    {
     "name": "stdout",
     "output_type": "stream",
     "text": [
      "make: Entering directory '/nfshome/htseng/courses/CSE142/demo/matrix_mul/prefetch'\n",
      "rm -f blockmm_sse blockmm blockmm_sse_prefetch transpose transpose_prefetch\n",
      "make: Leaving directory '/nfshome/htseng/courses/CSE142/demo/matrix_mul/prefetch'\n",
      "make: Entering directory '/nfshome/htseng/courses/CSE142/demo/matrix_mul/prefetch'\n",
      "g++ -msse4.1 -mavx -O3 transpose.cpp -o transpose \n",
      "g++ -msse4.1 -mavx -O3 -DENABLE_PREFETCH transpose.cpp -o transpose_prefetch \n",
      "make: Leaving directory '/nfshome/htseng/courses/CSE142/demo/matrix_mul/prefetch'\n",
      "Model name:                           AMD Ryzen 9 5950X 16-Core Processor\n",
      "Model:                                33\n",
      "Without prefetch -- the baseline\n",
      "bytes = 1073741824\n",
      "Starting Data Transpose...   Done\n",
      "Time: 0.10477 seconds\n",
      "With prefetch\n",
      "bytes = 1073741824\n",
      "Starting Data Transpose...   Done\n",
      "Time: 0.098977 seconds\n"
     ]
    }
   ],
   "source": [
    "! ssh htseng@xerneas \"cd /nfshome/htseng/courses/CSE142/demo/matrix_mul/; make -C ./prefetch clean; make -C ./prefetch ; lscpu | grep Model\"\n",
    "! echo \"Without prefetch -- the baseline\"; ssh htseng@xerneas  \"/nfshome/htseng/courses/CSE142/demo/matrix_mul/prefetch/transpose\"\n",
    "! echo \"With prefetch\";  ssh htseng@xerneas  \"/nfshome/htseng/courses/CSE142/demo/matrix_mul/prefetch/transpose_prefetch\""
   ]
  },
  {
   "cell_type": "code",
   "execution_count": 5,
   "id": "89160761-f2ca-4e2f-bb39-2c1ca13fd23b",
   "metadata": {},
   "outputs": [
    {
     "name": "stdout",
     "output_type": "stream",
     "text": [
      "make: Entering directory '/nfshome/htseng/courses/CSE142/demo/matrix_mul/prefetch'\n",
      "rm -f blockmm_sse blockmm blockmm_sse_prefetch transpose transpose_prefetch\n",
      "make: Leaving directory '/nfshome/htseng/courses/CSE142/demo/matrix_mul/prefetch'\n",
      "make: Entering directory '/nfshome/htseng/courses/CSE142/demo/matrix_mul/prefetch'\n",
      "g++ -msse4.1 -mavx -O3 transpose.cpp -o transpose \n",
      "g++ -msse4.1 -mavx -O3 -DENABLE_PREFETCH transpose.cpp -o transpose_prefetch \n",
      "make: Leaving directory '/nfshome/htseng/courses/CSE142/demo/matrix_mul/prefetch'\n",
      "Model name:                           AMD Ryzen 7 5700X 8-Core Processor\n",
      "Model:                                33\n",
      "Without prefetch -- the baseline\n",
      "bytes = 1073741824\n",
      "Starting Data Transpose...   Done\n",
      "Time: 0.10448 seconds\n",
      "With prefetch\n",
      "bytes = 1073741824\n",
      "Starting Data Transpose...   Done\n",
      "Time: 0.098491 seconds\n"
     ]
    }
   ],
   "source": [
    "! ssh htseng@blissey \"cd /nfshome/htseng/courses/CSE142/demo/matrix_mul/; make -C ./prefetch clean; make -C ./prefetch ; lscpu | grep Model\"\n",
    "! echo \"Without prefetch -- the baseline\"; ssh htseng@blissey  \"/nfshome/htseng/courses/CSE142/demo/matrix_mul/prefetch/transpose\"\n",
    "! echo \"With prefetch\";  ssh htseng@blissey  \"/nfshome/htseng/courses/CSE142/demo/matrix_mul/prefetch/transpose_prefetch\""
   ]
  },
  {
   "cell_type": "code",
   "execution_count": 6,
   "id": "5a7dc769-6a2e-409b-97fb-3b2c6e6d1879",
   "metadata": {},
   "outputs": [
    {
     "name": "stdout",
     "output_type": "stream",
     "text": [
      "htseng@eevee's password: \n",
      "Without prefetch -- the baseline\n",
      "htseng@eevee's password: \n",
      "With prefetch\n",
      "htseng@eevee's password: \n"
     ]
    }
   ],
   "source": [
    "! ssh htseng@eevee \"cd /nfshome/htseng/courses/CSE142/demo/matrix_mul/; make -C ./prefetch clean; make -C ./prefetch ; lscpu | grep Model\"\n",
    "! echo \"Without prefetch -- the baseline\"; ssh htseng@eevee  \"/nfshome/htseng/courses/CSE142/demo/matrix_mul/prefetch/transpose\"\n",
    "! echo \"With prefetch\";  ssh htseng@eevee  \"/nfshome/htseng/courses/CSE142/demo/matrix_mul/prefetch/transpose_prefetch\""
   ]
  },
  {
   "cell_type": "markdown",
   "id": "a4126464-d36f-489d-8dbe-e665e3b9fc10",
   "metadata": {},
   "source": [
    "\n",
    "-- It doesn't work always!"
   ]
  },
  {
   "cell_type": "code",
   "execution_count": null,
   "id": "191fcee5-5943-47d7-8bbc-fc69308e8e73",
   "metadata": {},
   "outputs": [],
   "source": [
    "render_code(\"matrix_mul/blockmm_interchange.c\", show=[\"//START\",\"//END\"])"
   ]
  },
  {
   "cell_type": "code",
   "execution_count": null,
   "id": "297943e3-86f8-4dfc-90c5-05750958f861",
   "metadata": {},
   "outputs": [
    {
     "name": "stdout",
     "output_type": "stream",
     "text": [
      "gcc -O4 -DHAVE_LINUX_PERF_EVENT_H blockmm_interchange.c perfstats.c -o blockmm_interchange\n",
      "\u001b[01m\u001b[Kblockmm_interchange.c:\u001b[m\u001b[K In function ‘\u001b[01m\u001b[Kmain\u001b[m\u001b[K’:\n",
      "\u001b[01m\u001b[Kblockmm_interchange.c:48:16:\u001b[m\u001b[K \u001b[01;35m\u001b[Kwarning: \u001b[m\u001b[Kformat ‘\u001b[01m\u001b[K%lu\u001b[m\u001b[K’ expects argument of type ‘\u001b[01m\u001b[Klong unsigned int\u001b[m\u001b[K’, but argument 3 has type ‘\u001b[01m\u001b[Kint\u001b[m\u001b[K’ [\u001b[01;35m\u001b[K\u001b]8;;https://gcc.gnu.org/onlinedocs/gcc/Warning-Options.html#index-Wformat=\u0007-Wformat=\u001b]8;;\u0007\u001b[m\u001b[K]\n",
      "   48 |   printf(\"%d,\u001b[01;35m\u001b[K%lu\u001b[m\u001b[K,\",ARRAY_SIZE,\u001b[32m\u001b[Ktile_size\u001b[m\u001b[K);\n",
      "      |              \u001b[01;35m\u001b[K~~^\u001b[m\u001b[K              \u001b[32m\u001b[K~~~~~~~~~\u001b[m\u001b[K\n",
      "      |                \u001b[01;35m\u001b[K|\u001b[m\u001b[K              \u001b[32m\u001b[K|\u001b[m\u001b[K\n",
      "      |                \u001b[01;35m\u001b[K|\u001b[m\u001b[K              \u001b[32m\u001b[Kint\u001b[m\u001b[K\n",
      "      |                \u001b[01;35m\u001b[Klong unsigned int\u001b[m\u001b[K\n",
      "      |              \u001b[32m\u001b[K%u\u001b[m\u001b[K\n",
      "10521102336.000000,10521102336.000000,10521102336.000000,10521102336.000000,10521102336.000000,"
     ]
    }
   ],
   "source": [
    "! cd matrix_mul; rm -f blockmm_interchange; make blockmm_interchange; echo \"size,tile_size,IC,Cycles,CPI,CT_ns,ET_s,DL1_miss_rate,DL1_misses,DL1_accesses\" > blockmm_interchange.csv\n",
    "! ./matrix_mul/blockmm_interchange 2048 8 >> ./matrix_mul/blockmm_interchange.csv \n",
    "! ./matrix_mul/blockmm_interchange 2048 16 >> ./matrix_mul/blockmm_interchange.csv \n",
    "! ./matrix_mul/blockmm_interchange 2048 32 >> ./matrix_mul/blockmm_interchange.csv \n",
    "! ./matrix_mul/blockmm_interchange 2048 64 >> ./matrix_mul/blockmm_interchange.csv\n",
    "! ./matrix_mul/blockmm_interchange 2048 128 >> ./matrix_mul/blockmm_interchange.csv\n",
    "! ./matrix_mul/blockmm_interchange 2048 256 >> ./matrix_mul/blockmm_interchange.csv\n",
    "display_df_mono(render_csv(\"matrix_mul/blockmm.csv\"))\n",
    "display_df_mono(render_csv(\"matrix_mul/blockmm_interchange.csv\"))\n"
   ]
  },
  {
   "cell_type": "code",
   "execution_count": null,
   "id": "b72b09ff-1fb4-4dec-bf43-0e3ac8207b34",
   "metadata": {},
   "outputs": [],
   "source": []
  }
 ],
 "metadata": {
  "kernelspec": {
   "display_name": "Python 3 (ipykernel)",
   "language": "python",
   "name": "python3"
  },
  "language_info": {
   "codemirror_mode": {
    "name": "ipython",
    "version": 3
   },
   "file_extension": ".py",
   "mimetype": "text/x-python",
   "name": "python",
   "nbconvert_exporter": "python",
   "pygments_lexer": "ipython3",
   "version": "3.12.3"
  },
  "widgets": {
   "application/vnd.jupyter.widget-state+json": {
    "state": {},
    "version_major": 2,
    "version_minor": 0
   }
  }
 },
 "nbformat": 4,
 "nbformat_minor": 5
}
