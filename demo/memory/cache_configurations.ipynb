{
 "cells": [
  {
   "cell_type": "code",
   "execution_count": 1,
   "id": "39bd05fd-cae3-4bed-9b16-0114306cfc72",
   "metadata": {
    "editable": false,
    "init_cell": true,
    "tags": []
   },
   "outputs": [
    {
     "data": {
      "text/html": [
       "<style>h1 {font-size: 2vw;} h2 {font-size: 1.5vw;} p {font-size: 1.4vw;} div.prompt, code, output, prompt, kbd, pre, samp {font-family: 'SF Mono', 'Courier New', Courier, monospace, sans-serif !important;font-size: 1.4vw !important;}</style>"
      ],
      "text/plain": [
       "<IPython.core.display.HTML object>"
      ]
     },
     "metadata": {},
     "output_type": "display_data"
    }
   ],
   "source": [
    "# Please execute/shift-return this cell everytime you run the notebook.  Don't edit it. \n",
    "%load_ext autoreload\n",
    "%autoreload 2\n",
    "from notebook import * "
   ]
  },
  {
   "cell_type": "markdown",
   "id": "a5018288-6079-4125-98a1-4f9a2b0b3805",
   "metadata": {
    "tags": []
   },
   "source": [
    "# The memory hierarchy of my computer"
   ]
  },
  {
   "cell_type": "code",
   "execution_count": 1,
   "id": "b3530190-c853-4c69-85de-07e8880ca00a",
   "metadata": {},
   "outputs": [
    {
     "name": "stdout",
     "output_type": "stream",
     "text": [
      "Model name:                              Intel(R) Core(TM) i7-14700K\n",
      "LEVEL1_ICACHE_SIZE                 65536\n",
      "LEVEL1_ICACHE_ASSOC                \n",
      "LEVEL1_ICACHE_LINESIZE             64\n",
      "LEVEL1_DCACHE_SIZE                 32768\n",
      "LEVEL1_DCACHE_ASSOC                8\n",
      "LEVEL1_DCACHE_LINESIZE             64\n",
      "LEVEL2_CACHE_SIZE                  4194304\n",
      "LEVEL2_CACHE_ASSOC                 16\n",
      "LEVEL2_CACHE_LINESIZE              64\n",
      "LEVEL3_CACHE_SIZE                  34603008\n",
      "LEVEL3_CACHE_ASSOC                 11\n",
      "LEVEL3_CACHE_LINESIZE              64\n",
      "LEVEL4_CACHE_SIZE                  \n",
      "LEVEL4_CACHE_ASSOC                 \n",
      "LEVEL4_CACHE_LINESIZE              \n"
     ]
    }
   ],
   "source": [
    "# Hung-Wei's Desktop #1\n",
    "! lscpu | grep \"Model name\"\n",
    "! getconf -a | grep CACHE"
   ]
  },
  {
   "cell_type": "code",
   "execution_count": 3,
   "id": "bd11324e-bed3-4e70-9dff-5b076ac76c9b",
   "metadata": {},
   "outputs": [
    {
     "name": "stdout",
     "output_type": "stream",
     "text": [
      "Architecture:                x86_64\n",
      "  CPU op-mode(s):            32-bit, 64-bit\n",
      "  Address sizes:             46 bits physical, 48 bits virtual\n",
      "  Byte Order:                Little Endian\n",
      "CPU(s):                      28\n",
      "  On-line CPU(s) list:       0-27\n",
      "Vendor ID:                   GenuineIntel\n",
      "  Model name:                Intel(R) Core(TM) i7-14700K\n",
      "    CPU family:              6\n",
      "    Model:                   183\n",
      "    Thread(s) per core:      2\n",
      "    Core(s) per socket:      20\n",
      "    Socket(s):               1\n",
      "    Stepping:                1\n",
      "    CPU(s) scaling MHz:      28%\n",
      "    CPU max MHz:             5600.0000\n",
      "    CPU min MHz:             800.0000\n",
      "    BogoMIPS:                6835.20\n",
      "    Flags:                   fpu vme de pse tsc msr pae mce cx8 apic sep mtrr pg\n",
      "                             e mca cmov pat pse36 clflush dts acpi mmx fxsr sse \n",
      "                             sse2 ss ht tm pbe syscall nx pdpe1gb rdtscp lm cons\n",
      "                             tant_tsc art arch_perfmon pebs bts rep_good nopl xt\n",
      "                             opology nonstop_tsc cpuid aperfmperf tsc_known_freq\n",
      "                              pni pclmulqdq dtes64 monitor ds_cpl vmx smx est tm\n",
      "                             2 ssse3 sdbg fma cx16 xtpr pdcm pcid sse4_1 sse4_2 \n",
      "                             x2apic movbe popcnt tsc_deadline_timer aes xsave av\n",
      "                             x f16c rdrand lahf_lm abm 3dnowprefetch cpuid_fault\n",
      "                              epb ssbd ibrs ibpb stibp ibrs_enhanced tpr_shadow \n",
      "                             flexpriority ept vpid ept_ad fsgsbase tsc_adjust bm\n",
      "                             i1 avx2 smep bmi2 erms invpcid rdseed adx smap clfl\n",
      "                             ushopt clwb intel_pt sha_ni xsaveopt xsavec xgetbv1\n",
      "                              xsaves split_lock_detect user_shstk avx_vnni dther\n",
      "                             m ida arat pln pts hwp hwp_notify hwp_act_window hw\n",
      "                             p_epp hwp_pkg_req hfi vnmi umip pku ospke waitpkg g\n",
      "                             fni vaes vpclmulqdq rdpid movdiri movdir64b fsrm md\n",
      "                             _clear serialize pconfig arch_lbr ibt flush_l1d arc\n",
      "                             h_capabilities\n",
      "Virtualization features:     \n",
      "  Virtualization:            VT-x\n",
      "Caches (sum of all):         \n",
      "  L1d:                       768 KiB (20 instances)\n",
      "  L1i:                       1 MiB (20 instances)\n",
      "  L2:                        28 MiB (11 instances)\n",
      "  L3:                        33 MiB (1 instance)\n",
      "NUMA:                        \n",
      "  NUMA node(s):              1\n",
      "  NUMA node0 CPU(s):         0-27\n",
      "Vulnerabilities:             \n",
      "  Gather data sampling:      Not affected\n",
      "  Ghostwrite:                Not affected\n",
      "  Indirect target selection: Not affected\n",
      "  Itlb multihit:             Not affected\n",
      "  L1tf:                      Not affected\n",
      "  Mds:                       Not affected\n",
      "  Meltdown:                  Not affected\n",
      "  Mmio stale data:           Not affected\n",
      "  Reg file data sampling:    Mitigation; Clear Register File\n",
      "  Retbleed:                  Not affected\n",
      "  Spec rstack overflow:      Not affected\n",
      "  Spec store bypass:         Mitigation; Speculative Store Bypass disabled via p\n",
      "                             rctl\n",
      "  Spectre v1:                Mitigation; usercopy/swapgs barriers and __user poi\n",
      "                             nter sanitization\n",
      "  Spectre v2:                Mitigation; Enhanced / Automatic IBRS; IBPB conditi\n",
      "                             onal; PBRSB-eIBRS SW sequence; BHI BHI_DIS_S\n",
      "  Srbds:                     Not affected\n",
      "  Tsx async abort:           Not affected\n"
     ]
    }
   ],
   "source": [
    "! lscpu"
   ]
  },
  {
   "cell_type": "code",
   "execution_count": 2,
   "id": "c68f6dbd",
   "metadata": {
    "scrolled": true
   },
   "outputs": [
    {
     "name": "stdout",
     "output_type": "stream",
     "text": [
      "/sys/devices/system/cpu/cpu0/cache/index0/physical_line_partition:1\r\n",
      "/sys/devices/system/cpu/cpu0/cache/index0/number_of_sets:64\r\n",
      "/sys/devices/system/cpu/cpu0/cache/index0/ways_of_associativity:12\r\n",
      "/sys/devices/system/cpu/cpu0/cache/index0/id:0\r\n",
      "/sys/devices/system/cpu/cpu0/cache/index0/shared_cpu_list:0-1\r\n",
      "/sys/devices/system/cpu/cpu0/cache/index0/type:Data\r\n",
      "/sys/devices/system/cpu/cpu0/cache/index0/size:48K\r\n",
      "/sys/devices/system/cpu/cpu0/cache/index0/level:1\r\n",
      "/sys/devices/system/cpu/cpu0/cache/index0/coherency_line_size:64\r\n",
      "/sys/devices/system/cpu/cpu0/cache/index0/shared_cpu_map:0000003\r\n",
      "/sys/devices/system/cpu/cpu0/cache/index1/physical_line_partition:1\r\n",
      "/sys/devices/system/cpu/cpu0/cache/index1/number_of_sets:64\r\n",
      "/sys/devices/system/cpu/cpu0/cache/index1/ways_of_associativity:8\r\n",
      "/sys/devices/system/cpu/cpu0/cache/index1/id:0\r\n",
      "/sys/devices/system/cpu/cpu0/cache/index1/shared_cpu_list:0-1\r\n",
      "/sys/devices/system/cpu/cpu0/cache/index1/type:Instruction\r\n",
      "/sys/devices/system/cpu/cpu0/cache/index1/size:32K\r\n",
      "/sys/devices/system/cpu/cpu0/cache/index1/level:1\r\n",
      "/sys/devices/system/cpu/cpu0/cache/index1/coherency_line_size:64\r\n",
      "/sys/devices/system/cpu/cpu0/cache/index1/shared_cpu_map:0000003\r\n",
      "/sys/devices/system/cpu/cpu0/cache/index2/physical_line_partition:1\r\n",
      "/sys/devices/system/cpu/cpu0/cache/index2/number_of_sets:2048\r\n",
      "/sys/devices/system/cpu/cpu0/cache/index2/ways_of_associativity:16\r\n",
      "/sys/devices/system/cpu/cpu0/cache/index2/id:0\r\n",
      "/sys/devices/system/cpu/cpu0/cache/index2/shared_cpu_list:0-1\r\n",
      "/sys/devices/system/cpu/cpu0/cache/index2/type:Unified\r\n",
      "/sys/devices/system/cpu/cpu0/cache/index2/size:2048K\r\n",
      "/sys/devices/system/cpu/cpu0/cache/index2/level:2\r\n",
      "/sys/devices/system/cpu/cpu0/cache/index2/coherency_line_size:64\r\n",
      "/sys/devices/system/cpu/cpu0/cache/index2/shared_cpu_map:0000003\r\n",
      "/sys/devices/system/cpu/cpu0/cache/index3/physical_line_partition:1\r\n",
      "/sys/devices/system/cpu/cpu0/cache/index3/number_of_sets:49152\r\n",
      "/sys/devices/system/cpu/cpu0/cache/index3/ways_of_associativity:11\r\n",
      "/sys/devices/system/cpu/cpu0/cache/index3/id:0\r\n",
      "/sys/devices/system/cpu/cpu0/cache/index3/shared_cpu_list:0-27\r\n",
      "/sys/devices/system/cpu/cpu0/cache/index3/type:Unified\r\n",
      "/sys/devices/system/cpu/cpu0/cache/index3/size:33792K\r\n",
      "/sys/devices/system/cpu/cpu0/cache/index3/level:3\r\n",
      "/sys/devices/system/cpu/cpu0/cache/index3/coherency_line_size:64\r\n",
      "/sys/devices/system/cpu/cpu0/cache/index3/shared_cpu_map:fffffff\r\n"
     ]
    }
   ],
   "source": [
    "! grep -r . /sys/devices/system/cpu/cpu0/cache/index*"
   ]
  },
  {
   "cell_type": "code",
   "execution_count": 4,
   "id": "27ad0dd6-409c-4467-8acd-9cb0f9eceaf2",
   "metadata": {},
   "outputs": [
    {
     "name": "stdout",
     "output_type": "stream",
     "text": [
      "Model name:                      ARMv8 Processor rev 1 (v8l)\n",
      "LEVEL1_ICACHE_SIZE                 0\n",
      "LEVEL1_ICACHE_ASSOC                0\n",
      "LEVEL1_ICACHE_LINESIZE             64\n",
      "LEVEL1_DCACHE_SIZE                 0\n",
      "LEVEL1_DCACHE_ASSOC                0\n",
      "LEVEL1_DCACHE_LINESIZE             64\n",
      "LEVEL2_CACHE_SIZE                  0\n",
      "LEVEL2_CACHE_ASSOC                 0\n",
      "LEVEL2_CACHE_LINESIZE              0\n",
      "LEVEL3_CACHE_SIZE                  0\n",
      "LEVEL3_CACHE_ASSOC                 0\n",
      "LEVEL3_CACHE_LINESIZE              0\n",
      "LEVEL4_CACHE_SIZE                  0\n",
      "LEVEL4_CACHE_ASSOC                 0\n",
      "LEVEL4_CACHE_LINESIZE              0\n"
     ]
    }
   ],
   "source": [
    "# Jetson Orin (NV Tegra Orin)\n",
    "! ssh htseng@orin-1 \"lscpu | grep 'Model name'; getconf -a | grep CACHE\""
   ]
  },
  {
   "cell_type": "code",
   "execution_count": 1,
   "id": "bd173411-cb3d-4600-bca0-009aea382a86",
   "metadata": {},
   "outputs": [
    {
     "name": "stdout",
     "output_type": "stream",
     "text": [
      "/sys/devices/system/cpu/cpu0/cache/index0/number_of_sets:256\n",
      "/sys/devices/system/cpu/cpu0/cache/index0/ways_of_associativity:4\n",
      "/sys/devices/system/cpu/cpu0/cache/index0/shared_cpu_list:0\n",
      "/sys/devices/system/cpu/cpu0/cache/index0/type:Data\n",
      "/sys/devices/system/cpu/cpu0/cache/index0/size:64K\n",
      "/sys/devices/system/cpu/cpu0/cache/index0/level:1\n",
      "/sys/devices/system/cpu/cpu0/cache/index0/coherency_line_size:64\n",
      "/sys/devices/system/cpu/cpu0/cache/index0/shared_cpu_map:01\n",
      "/sys/devices/system/cpu/cpu0/cache/index1/number_of_sets:256\n",
      "/sys/devices/system/cpu/cpu0/cache/index1/ways_of_associativity:4\n",
      "/sys/devices/system/cpu/cpu0/cache/index1/shared_cpu_list:0\n",
      "/sys/devices/system/cpu/cpu0/cache/index1/type:Instruction\n",
      "/sys/devices/system/cpu/cpu0/cache/index1/size:64K\n",
      "/sys/devices/system/cpu/cpu0/cache/index1/level:1\n",
      "/sys/devices/system/cpu/cpu0/cache/index1/coherency_line_size:64\n",
      "/sys/devices/system/cpu/cpu0/cache/index1/shared_cpu_map:01\n",
      "/sys/devices/system/cpu/cpu0/cache/index2/number_of_sets:512\n",
      "/sys/devices/system/cpu/cpu0/cache/index2/ways_of_associativity:8\n",
      "/sys/devices/system/cpu/cpu0/cache/index2/shared_cpu_list:0\n",
      "/sys/devices/system/cpu/cpu0/cache/index2/type:Unified\n",
      "/sys/devices/system/cpu/cpu0/cache/index2/size:256K\n",
      "/sys/devices/system/cpu/cpu0/cache/index2/level:2\n",
      "/sys/devices/system/cpu/cpu0/cache/index2/coherency_line_size:64\n",
      "/sys/devices/system/cpu/cpu0/cache/index2/shared_cpu_map:01\n",
      "/sys/devices/system/cpu/cpu0/cache/index3/number_of_sets:2048\n",
      "/sys/devices/system/cpu/cpu0/cache/index3/ways_of_associativity:16\n",
      "/sys/devices/system/cpu/cpu0/cache/index3/shared_cpu_list:0-3\n",
      "/sys/devices/system/cpu/cpu0/cache/index3/type:Unified\n",
      "/sys/devices/system/cpu/cpu0/cache/index3/size:2048K\n",
      "/sys/devices/system/cpu/cpu0/cache/index3/level:3\n",
      "/sys/devices/system/cpu/cpu0/cache/index3/coherency_line_size:64\n",
      "/sys/devices/system/cpu/cpu0/cache/index3/shared_cpu_map:0f\n"
     ]
    }
   ],
   "source": [
    "! ssh htseng@orin-1 \"grep -r . /sys/devices/system/cpu/cpu0/cache/index*\""
   ]
  },
  {
   "cell_type": "code",
   "execution_count": null,
   "id": "4f25c401-7e7a-4945-89de-92e1b0234563",
   "metadata": {},
   "outputs": [],
   "source": []
  }
 ],
 "metadata": {
  "kernelspec": {
   "display_name": "Python 3 (ipykernel)",
   "language": "python",
   "name": "python3"
  },
  "language_info": {
   "codemirror_mode": {
    "name": "ipython",
    "version": 3
   },
   "file_extension": ".py",
   "mimetype": "text/x-python",
   "name": "python",
   "nbconvert_exporter": "python",
   "pygments_lexer": "ipython3",
   "version": "3.12.3"
  },
  "toc-autonumbering": true,
  "toc-showcode": false,
  "toc-showmarkdowntxt": false,
  "widgets": {
   "application/vnd.jupyter.widget-state+json": {
    "state": {},
    "version_major": 2,
    "version_minor": 0
   }
  }
 },
 "nbformat": 4,
 "nbformat_minor": 5
}
