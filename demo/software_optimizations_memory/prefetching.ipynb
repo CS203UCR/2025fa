{
 "cells": [
  {
   "cell_type": "code",
   "execution_count": 1,
   "id": "51681749-809b-4e0e-b0b6-9720c0276682",
   "metadata": {},
   "outputs": [
    {
     "data": {
      "text/html": [
       "<style>h1 {font-size: 2vw;} h2 {font-size: 1.5vw;} p {font-size: 1.4vw;} div.prompt, code, output, prompt, kbd, pre, samp {font-family: 'SF Mono', 'Courier New', Courier, monospace, sans-serif !important;font-size: 1.4vw !important;}</style>"
      ],
      "text/plain": [
       "<IPython.core.display.HTML object>"
      ]
     },
     "metadata": {},
     "output_type": "display_data"
    }
   ],
   "source": [
    "# Please execute/shift-return this cell everytime you run the notebook.  Don't edit it. \n",
    "%load_ext autoreload\n",
    "%autoreload 2\n",
    "from notebook import * "
   ]
  },
  {
   "cell_type": "code",
   "execution_count": null,
   "id": "f656c37f-d183-41da-9c1f-99759f4eaa1e",
   "metadata": {},
   "outputs": [],
   "source": []
  },
  {
   "cell_type": "markdown",
   "id": "ce720299-6e1d-4434-923a-541b88e43ff5",
   "metadata": {
    "tags": []
   },
   "source": [
    "## Prefetch\n",
    "\n",
    "x86 provide prefetch instructions. As a programmer, you may insert ```_mm_prefetch``` in x86 programs to perform software prefetch for your code. The gcc compiler also has a flag ```-fprefetch-loop-arrays``` to automatically insert software prefetch instructions.\n",
    "\n",
    "### Using prefetch in matrix transpose code\n",
    "\n",
    "The following example is a highly optimized matrix transpose code. In the example, we try to prefetch the next row."
   ]
  },
  {
   "cell_type": "code",
   "execution_count": 2,
   "id": "822238b6-3ef2-4f8b-8c57-133b5a5ce263",
   "metadata": {},
   "outputs": [
    {
     "data": {
      "text/html": [
       "<style>pre { line-height: 125%; }\n",
       "td.linenos .normal { color: inherit; background-color: transparent; padding-left: 5px; padding-right: 5px; }\n",
       "span.linenos { color: inherit; background-color: transparent; padding-left: 5px; padding-right: 5px; }\n",
       "td.linenos .special { color: #000000; background-color: #ffffc0; padding-left: 5px; padding-right: 5px; }\n",
       "span.linenos.special { color: #000000; background-color: #ffffc0; padding-left: 5px; padding-right: 5px; }\n",
       ".output_html .hll { background-color: #ffffcc }\n",
       ".output_html { background: #f8f8f8; }\n",
       ".output_html .c { color: #3D7B7B; font-style: italic } /* Comment */\n",
       ".output_html .err { border: 1px solid #FF0000 } /* Error */\n",
       ".output_html .k { color: #008000; font-weight: bold } /* Keyword */\n",
       ".output_html .o { color: #666666 } /* Operator */\n",
       ".output_html .ch { color: #3D7B7B; font-style: italic } /* Comment.Hashbang */\n",
       ".output_html .cm { color: #3D7B7B; font-style: italic } /* Comment.Multiline */\n",
       ".output_html .cp { color: #9C6500 } /* Comment.Preproc */\n",
       ".output_html .cpf { color: #3D7B7B; font-style: italic } /* Comment.PreprocFile */\n",
       ".output_html .c1 { color: #3D7B7B; font-style: italic } /* Comment.Single */\n",
       ".output_html .cs { color: #3D7B7B; font-style: italic } /* Comment.Special */\n",
       ".output_html .gd { color: #A00000 } /* Generic.Deleted */\n",
       ".output_html .ge { font-style: italic } /* Generic.Emph */\n",
       ".output_html .ges { font-weight: bold; font-style: italic } /* Generic.EmphStrong */\n",
       ".output_html .gr { color: #E40000 } /* Generic.Error */\n",
       ".output_html .gh { color: #000080; font-weight: bold } /* Generic.Heading */\n",
       ".output_html .gi { color: #008400 } /* Generic.Inserted */\n",
       ".output_html .go { color: #717171 } /* Generic.Output */\n",
       ".output_html .gp { color: #000080; font-weight: bold } /* Generic.Prompt */\n",
       ".output_html .gs { font-weight: bold } /* Generic.Strong */\n",
       ".output_html .gu { color: #800080; font-weight: bold } /* Generic.Subheading */\n",
       ".output_html .gt { color: #0044DD } /* Generic.Traceback */\n",
       ".output_html .kc { color: #008000; font-weight: bold } /* Keyword.Constant */\n",
       ".output_html .kd { color: #008000; font-weight: bold } /* Keyword.Declaration */\n",
       ".output_html .kn { color: #008000; font-weight: bold } /* Keyword.Namespace */\n",
       ".output_html .kp { color: #008000 } /* Keyword.Pseudo */\n",
       ".output_html .kr { color: #008000; font-weight: bold } /* Keyword.Reserved */\n",
       ".output_html .kt { color: #B00040 } /* Keyword.Type */\n",
       ".output_html .m { color: #666666 } /* Literal.Number */\n",
       ".output_html .s { color: #BA2121 } /* Literal.String */\n",
       ".output_html .na { color: #687822 } /* Name.Attribute */\n",
       ".output_html .nb { color: #008000 } /* Name.Builtin */\n",
       ".output_html .nc { color: #0000FF; font-weight: bold } /* Name.Class */\n",
       ".output_html .no { color: #880000 } /* Name.Constant */\n",
       ".output_html .nd { color: #AA22FF } /* Name.Decorator */\n",
       ".output_html .ni { color: #717171; font-weight: bold } /* Name.Entity */\n",
       ".output_html .ne { color: #CB3F38; font-weight: bold } /* Name.Exception */\n",
       ".output_html .nf { color: #0000FF } /* Name.Function */\n",
       ".output_html .nl { color: #767600 } /* Name.Label */\n",
       ".output_html .nn { color: #0000FF; font-weight: bold } /* Name.Namespace */\n",
       ".output_html .nt { color: #008000; font-weight: bold } /* Name.Tag */\n",
       ".output_html .nv { color: #19177C } /* Name.Variable */\n",
       ".output_html .ow { color: #AA22FF; font-weight: bold } /* Operator.Word */\n",
       ".output_html .w { color: #bbbbbb } /* Text.Whitespace */\n",
       ".output_html .mb { color: #666666 } /* Literal.Number.Bin */\n",
       ".output_html .mf { color: #666666 } /* Literal.Number.Float */\n",
       ".output_html .mh { color: #666666 } /* Literal.Number.Hex */\n",
       ".output_html .mi { color: #666666 } /* Literal.Number.Integer */\n",
       ".output_html .mo { color: #666666 } /* Literal.Number.Oct */\n",
       ".output_html .sa { color: #BA2121 } /* Literal.String.Affix */\n",
       ".output_html .sb { color: #BA2121 } /* Literal.String.Backtick */\n",
       ".output_html .sc { color: #BA2121 } /* Literal.String.Char */\n",
       ".output_html .dl { color: #BA2121 } /* Literal.String.Delimiter */\n",
       ".output_html .sd { color: #BA2121; font-style: italic } /* Literal.String.Doc */\n",
       ".output_html .s2 { color: #BA2121 } /* Literal.String.Double */\n",
       ".output_html .se { color: #AA5D1F; font-weight: bold } /* Literal.String.Escape */\n",
       ".output_html .sh { color: #BA2121 } /* Literal.String.Heredoc */\n",
       ".output_html .si { color: #A45A77; font-weight: bold } /* Literal.String.Interpol */\n",
       ".output_html .sx { color: #008000 } /* Literal.String.Other */\n",
       ".output_html .sr { color: #A45A77 } /* Literal.String.Regex */\n",
       ".output_html .s1 { color: #BA2121 } /* Literal.String.Single */\n",
       ".output_html .ss { color: #19177C } /* Literal.String.Symbol */\n",
       ".output_html .bp { color: #008000 } /* Name.Builtin.Pseudo */\n",
       ".output_html .fm { color: #0000FF } /* Name.Function.Magic */\n",
       ".output_html .vc { color: #19177C } /* Name.Variable.Class */\n",
       ".output_html .vg { color: #19177C } /* Name.Variable.Global */\n",
       ".output_html .vi { color: #19177C } /* Name.Variable.Instance */\n",
       ".output_html .vm { color: #19177C } /* Name.Variable.Magic */\n",
       ".output_html .il { color: #666666 } /* Literal.Number.Integer.Long */</style><div class=\"highlight\"><pre><span></span><span class=\"c1\">// ./prefetch/transpose.cpp:42-63 (22 lines)</span>\n",
       "<span class=\"w\">    </span><span class=\"c1\">//START</span>\n",
       "<span class=\"w\">    </span><span class=\"c1\">//  Iterate each row.</span>\n",
       "<span class=\"w\">    </span><span class=\"n\">f_vector</span><span class=\"w\"> </span><span class=\"o\">*</span><span class=\"n\">y_iter</span><span class=\"w\"> </span><span class=\"o\">=</span><span class=\"w\"> </span><span class=\"n\">T</span><span class=\"p\">;</span>\n",
       "<span class=\"w\">    </span><span class=\"k\">do</span><span class=\"p\">{</span>\n",
       "<span class=\"w\">        </span><span class=\"c1\">//  Iterate each column.</span>\n",
       "<span class=\"w\">        </span><span class=\"n\">f_vector</span><span class=\"w\"> </span><span class=\"o\">*</span><span class=\"n\">ptr_x</span><span class=\"w\"> </span><span class=\"o\">=</span><span class=\"w\"> </span><span class=\"n\">y_iter</span><span class=\"w\"> </span><span class=\"o\">+</span><span class=\"w\"> </span><span class=\"n\">block</span><span class=\"p\">;</span>\n",
       "<span class=\"w\">        </span><span class=\"n\">f_vector</span><span class=\"w\"> </span><span class=\"o\">*</span><span class=\"n\">ptr_y</span><span class=\"w\"> </span><span class=\"o\">=</span><span class=\"w\"> </span><span class=\"n\">y_iter</span><span class=\"w\"> </span><span class=\"o\">+</span><span class=\"w\"> </span><span class=\"n\">row_size</span><span class=\"p\">;</span>\n",
       "\n",
       "<span class=\"w\">        </span><span class=\"k\">do</span><span class=\"p\">{</span>\n",
       "\n",
       "<span class=\"cp\">#ifdef ENABLE_PREFETCH</span>\n",
       "<span class=\"w\">            </span><span class=\"n\">_mm_prefetch</span><span class=\"p\">((</span><span class=\"kt\">char</span><span class=\"o\">*</span><span class=\"p\">)(</span><span class=\"n\">ptr_y</span><span class=\"w\"> </span><span class=\"o\">+</span><span class=\"w\"> </span><span class=\"n\">row_size</span><span class=\"p\">),</span><span class=\"n\">_MM_HINT_T0</span><span class=\"p\">);</span>\n",
       "<span class=\"cp\">#endif</span>\n",
       "<span class=\"w\">            </span><span class=\"n\">swap_block</span><span class=\"p\">(</span><span class=\"n\">ptr_x</span><span class=\"p\">,</span><span class=\"n\">ptr_y</span><span class=\"p\">,</span><span class=\"n\">block</span><span class=\"p\">);</span>\n",
       "\n",
       "<span class=\"w\">            </span><span class=\"n\">ptr_x</span><span class=\"w\"> </span><span class=\"o\">+=</span><span class=\"w\"> </span><span class=\"n\">block</span><span class=\"p\">;</span>\n",
       "<span class=\"w\">            </span><span class=\"n\">ptr_y</span><span class=\"w\"> </span><span class=\"o\">+=</span><span class=\"w\"> </span><span class=\"n\">row_size</span><span class=\"p\">;</span>\n",
       "<span class=\"w\">        </span><span class=\"p\">}</span><span class=\"k\">while</span><span class=\"w\"> </span><span class=\"p\">(</span><span class=\"n\">ptr_y</span><span class=\"w\"> </span><span class=\"o\">&lt;</span><span class=\"w\"> </span><span class=\"n\">stop_T</span><span class=\"p\">);</span>\n",
       "\n",
       "<span class=\"w\">        </span><span class=\"n\">y_iter</span><span class=\"w\"> </span><span class=\"o\">+=</span><span class=\"w\"> </span><span class=\"n\">iter_size</span><span class=\"p\">;</span>\n",
       "<span class=\"w\">    </span><span class=\"p\">}</span><span class=\"k\">while</span><span class=\"w\"> </span><span class=\"p\">(</span><span class=\"n\">y_iter</span><span class=\"w\"> </span><span class=\"o\">&lt;</span><span class=\"w\"> </span><span class=\"n\">end</span><span class=\"p\">);</span>\n",
       "<span class=\"w\">    </span><span class=\"c1\">//END</span>\n",
       "</pre></div>\n"
      ],
      "text/latex": [
       "\\begin{Verbatim}[commandchars=\\\\\\{\\}]\n",
       "\\PY{c+c1}{// ./prefetch/transpose.cpp:42\\PYZhy{}63 (22 lines)}\n",
       "\\PY{+w}{    }\\PY{c+c1}{//START}\n",
       "\\PY{+w}{    }\\PY{c+c1}{//  Iterate each row.}\n",
       "\\PY{+w}{    }\\PY{n}{f\\PYZus{}vector}\\PY{+w}{ }\\PY{o}{*}\\PY{n}{y\\PYZus{}iter}\\PY{+w}{ }\\PY{o}{=}\\PY{+w}{ }\\PY{n}{T}\\PY{p}{;}\n",
       "\\PY{+w}{    }\\PY{k}{do}\\PY{p}{\\PYZob{}}\n",
       "\\PY{+w}{        }\\PY{c+c1}{//  Iterate each column.}\n",
       "\\PY{+w}{        }\\PY{n}{f\\PYZus{}vector}\\PY{+w}{ }\\PY{o}{*}\\PY{n}{ptr\\PYZus{}x}\\PY{+w}{ }\\PY{o}{=}\\PY{+w}{ }\\PY{n}{y\\PYZus{}iter}\\PY{+w}{ }\\PY{o}{+}\\PY{+w}{ }\\PY{n}{block}\\PY{p}{;}\n",
       "\\PY{+w}{        }\\PY{n}{f\\PYZus{}vector}\\PY{+w}{ }\\PY{o}{*}\\PY{n}{ptr\\PYZus{}y}\\PY{+w}{ }\\PY{o}{=}\\PY{+w}{ }\\PY{n}{y\\PYZus{}iter}\\PY{+w}{ }\\PY{o}{+}\\PY{+w}{ }\\PY{n}{row\\PYZus{}size}\\PY{p}{;}\n",
       "\n",
       "\\PY{+w}{        }\\PY{k}{do}\\PY{p}{\\PYZob{}}\n",
       "\n",
       "\\PY{c+cp}{\\PYZsh{}}\\PY{c+cp}{ifdef ENABLE\\PYZus{}PREFETCH}\n",
       "\\PY{+w}{            }\\PY{n}{\\PYZus{}mm\\PYZus{}prefetch}\\PY{p}{(}\\PY{p}{(}\\PY{k+kt}{char}\\PY{o}{*}\\PY{p}{)}\\PY{p}{(}\\PY{n}{ptr\\PYZus{}y}\\PY{+w}{ }\\PY{o}{+}\\PY{+w}{ }\\PY{n}{row\\PYZus{}size}\\PY{p}{)}\\PY{p}{,}\\PY{n}{\\PYZus{}MM\\PYZus{}HINT\\PYZus{}T0}\\PY{p}{)}\\PY{p}{;}\n",
       "\\PY{c+cp}{\\PYZsh{}}\\PY{c+cp}{endif}\n",
       "\\PY{+w}{            }\\PY{n}{swap\\PYZus{}block}\\PY{p}{(}\\PY{n}{ptr\\PYZus{}x}\\PY{p}{,}\\PY{n}{ptr\\PYZus{}y}\\PY{p}{,}\\PY{n}{block}\\PY{p}{)}\\PY{p}{;}\n",
       "\n",
       "\\PY{+w}{            }\\PY{n}{ptr\\PYZus{}x}\\PY{+w}{ }\\PY{o}{+}\\PY{o}{=}\\PY{+w}{ }\\PY{n}{block}\\PY{p}{;}\n",
       "\\PY{+w}{            }\\PY{n}{ptr\\PYZus{}y}\\PY{+w}{ }\\PY{o}{+}\\PY{o}{=}\\PY{+w}{ }\\PY{n}{row\\PYZus{}size}\\PY{p}{;}\n",
       "\\PY{+w}{        }\\PY{p}{\\PYZcb{}}\\PY{k}{while}\\PY{+w}{ }\\PY{p}{(}\\PY{n}{ptr\\PYZus{}y}\\PY{+w}{ }\\PY{o}{\\PYZlt{}}\\PY{+w}{ }\\PY{n}{stop\\PYZus{}T}\\PY{p}{)}\\PY{p}{;}\n",
       "\n",
       "\\PY{+w}{        }\\PY{n}{y\\PYZus{}iter}\\PY{+w}{ }\\PY{o}{+}\\PY{o}{=}\\PY{+w}{ }\\PY{n}{iter\\PYZus{}size}\\PY{p}{;}\n",
       "\\PY{+w}{    }\\PY{p}{\\PYZcb{}}\\PY{k}{while}\\PY{+w}{ }\\PY{p}{(}\\PY{n}{y\\PYZus{}iter}\\PY{+w}{ }\\PY{o}{\\PYZlt{}}\\PY{+w}{ }\\PY{n}{end}\\PY{p}{)}\\PY{p}{;}\n",
       "\\PY{+w}{    }\\PY{c+c1}{//END}\n",
       "\\end{Verbatim}\n"
      ],
      "text/plain": [
       "// ./prefetch/transpose.cpp:42-63 (22 lines)\n",
       "    //START\n",
       "    //  Iterate each row.\n",
       "    f_vector *y_iter = T;\n",
       "    do{\n",
       "        //  Iterate each column.\n",
       "        f_vector *ptr_x = y_iter + block;\n",
       "        f_vector *ptr_y = y_iter + row_size;\n",
       "\n",
       "        do{\n",
       "\n",
       "#ifdef ENABLE_PREFETCH\n",
       "            _mm_prefetch((char*)(ptr_y + row_size),_MM_HINT_T0);\n",
       "#endif\n",
       "            swap_block(ptr_x,ptr_y,block);\n",
       "\n",
       "            ptr_x += block;\n",
       "            ptr_y += row_size;\n",
       "        }while (ptr_y < stop_T);\n",
       "\n",
       "        y_iter += iter_size;\n",
       "    }while (y_iter < end);\n",
       "    //END"
      ]
     },
     "metadata": {},
     "output_type": "display_data"
    }
   ],
   "source": [
    "render_code(\"./prefetch/transpose.cpp\", lang=\"c++\", show=[\"//START\", \"//END\"])"
   ]
  },
  {
   "cell_type": "markdown",
   "id": "a8e488ce-0997-43be-a5c6-0dcb069cb2f9",
   "metadata": {
    "tags": []
   },
   "source": [
    "Now, let's take a look of what's happening!"
   ]
  },
  {
   "cell_type": "code",
   "execution_count": 3,
   "id": "15180f67-44f9-495b-8041-571b85c4c714",
   "metadata": {},
   "outputs": [
    {
     "name": "stdout",
     "output_type": "stream",
     "text": [
      "rm -f blockmm_sse blockmm blockmm_sse_prefetch transpose transpose_prefetch\n",
      "g++ -msse4.1 -mavx -O3 transpose.cpp -o transpose \n",
      "g++ -msse4.1 -mavx -O3 -DENABLE_PREFETCH transpose.cpp -o transpose_prefetch \n",
      "Without prefetch -- the baseline\n",
      "Model name:                           13th Gen Intel(R) Core(TM) i7-13700F\n",
      "Model:                                183\n",
      "bytes = 1073741824\n",
      "Starting Data Transpose...   Done\n",
      "Time: 0.10338 seconds\n"
     ]
    }
   ],
   "source": [
    "! cd prefetch; make clean; make\n",
    "# ! echo \"Without prefetch -- the baseline\"; ssh htseng@celebi \"lscpu | grep Model; cd courses/CS203/demo/memory/prefetch/; ./transpose\"\n",
    "! echo \"Without prefetch -- the baseline\"\n",
    "! lscpu | grep Model\n",
    "! ./prefetch/transpose"
   ]
  },
  {
   "cell_type": "code",
   "execution_count": 4,
   "id": "19d9a154-5b78-4459-8a2f-ac3ed63be19c",
   "metadata": {
    "tags": []
   },
   "outputs": [
    {
     "name": "stdout",
     "output_type": "stream",
     "text": [
      "With prefetch\n",
      "bytes = 1073741824\n",
      "Starting Data Transpose...   Done\n",
      "Time: 0.097001 seconds\n"
     ]
    }
   ],
   "source": [
    "# ! echo \"With prefetch\"; ssh htseng@celebi \" cd courses/CS203/demo/memory/prefetch/; ./transpose_prefetch\"\n",
    "! echo \"With prefetch\"\n",
    "! ./prefetch/transpose_prefetch"
   ]
  },
  {
   "cell_type": "markdown",
   "id": "f391491b-4d51-44bc-b0f4-0ed212c42b20",
   "metadata": {},
   "source": [
    "Let's try a different machine now."
   ]
  },
  {
   "cell_type": "code",
   "execution_count": 7,
   "id": "312231f0-c48c-4685-8393-da4c830ecb91",
   "metadata": {},
   "outputs": [
    {
     "name": "stdout",
     "output_type": "stream",
     "text": [
      "make: Entering directory '/nfshome/htseng/courses/CSE142/demo/software_optimizations_memory/prefetch'\n",
      "rm -f blockmm_sse blockmm blockmm_sse_prefetch transpose transpose_prefetch\n",
      "make: Leaving directory '/nfshome/htseng/courses/CSE142/demo/software_optimizations_memory/prefetch'\n",
      "make: Entering directory '/nfshome/htseng/courses/CSE142/demo/software_optimizations_memory/prefetch'\n",
      "g++ -msse4.1 -mavx -O3 transpose.cpp -o transpose \n",
      "g++ -msse4.1 -mavx -O3 -DENABLE_PREFETCH transpose.cpp -o transpose_prefetch \n",
      "make: Leaving directory '/nfshome/htseng/courses/CSE142/demo/software_optimizations_memory/prefetch'\n",
      "Model:                                80\n",
      "Model name:                           AMD Ryzen 7 5700G with Radeon Graphics\n",
      "Without prefetch -- the baseline\n",
      "bytes = 1073741824\n",
      "Starting Data Transpose...   Done\n",
      "Time: 0.124563 seconds\n",
      "With prefetch\n",
      "bytes = 1073741824\n",
      "Starting Data Transpose...   Done\n",
      "Time: 0.108833 seconds\n"
     ]
    }
   ],
   "source": [
    "#! cd prefetch; make clean; make; lscpu | grep Model\n",
    "#! echo \"Without prefetch -- the baseline\"; cd prefetch/; ./transpose\n",
    "#! echo \"With prefetch\"; cd prefetch/; ./transpose_prefetch\n",
    "! ssh htseng@ditto \"cd /nfshome/htseng/courses/CSE142/demo/software_optimizations_memory/; make -C ./prefetch clean; make -C ./prefetch ; lscpu | grep Model\"\n",
    "! echo \"Without prefetch -- the baseline\"; ssh htseng@ditto  \"/nfshome/htseng/courses/CSE142/demo/software_optimizations_memory/prefetch/transpose\"\n",
    "! echo \"With prefetch\";  ssh htseng@ditto  \"/nfshome/htseng/courses/CSE142/demo/software_optimizations_memory/prefetch/transpose_prefetch\""
   ]
  },
  {
   "cell_type": "markdown",
   "id": "60e881d8-b29b-46fd-a287-1ba95bb6add1",
   "metadata": {},
   "source": [
    "\n",
    "-- It doesn't work always!"
   ]
  }
 ],
 "metadata": {
  "kernelspec": {
   "display_name": "Python 3 (ipykernel)",
   "language": "python",
   "name": "python3"
  },
  "language_info": {
   "codemirror_mode": {
    "name": "ipython",
    "version": 3
   },
   "file_extension": ".py",
   "mimetype": "text/x-python",
   "name": "python",
   "nbconvert_exporter": "python",
   "pygments_lexer": "ipython3",
   "version": "3.12.3"
  },
  "widgets": {
   "application/vnd.jupyter.widget-state+json": {
    "state": {},
    "version_major": 2,
    "version_minor": 0
   }
  }
 },
 "nbformat": 4,
 "nbformat_minor": 5
}
