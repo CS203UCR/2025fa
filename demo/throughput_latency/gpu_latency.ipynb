{
 "cells": [
  {
   "cell_type": "code",
   "execution_count": 14,
   "id": "39bd05fd-cae3-4bed-9b16-0114306cfc72",
   "metadata": {},
   "outputs": [
    {
     "name": "stdout",
     "output_type": "stream",
     "text": [
      "The autoreload extension is already loaded. To reload it, use:\n",
      "  %reload_ext autoreload\n"
     ]
    }
   ],
   "source": [
    "# Please execute/shift-return this cell everytime you run the notebook.  Don't edit it. \n",
    "%load_ext autoreload\n",
    "%autoreload 2\n",
    "from notebook import * "
   ]
  },
  {
   "cell_type": "markdown",
   "id": "a0385204-de3a-4e7d-83cf-d9f50aafbe64",
   "metadata": {},
   "source": [
    "# Latency"
   ]
  },
  {
   "cell_type": "code",
   "execution_count": 18,
   "id": "ade98520-6b66-46fd-bc8e-8c40e76a9299",
   "metadata": {},
   "outputs": [
    {
     "name": "stdout",
     "output_type": "stream",
     "text": [
      "Data Type Size: 4\n",
      "Time elapsed on matrix multiplication of 4 16x16 . 16x16 on GPU: 7.522048 ms.\n",
      "\n",
      "\n",
      "Throughput: 0.00 GFLOPS\n",
      "\n"
     ]
    }
   ],
   "source": [
    "! cd metrics; echo \"algorithm,data_type,size,time,GLOPS\" > latency.csv\n",
    "! echo -n \"cuda_tiled,\" >> metrics/latency.csv\n",
    "! cd metrics; ./cudamm 16 0 2>> latency.csv"
   ]
  },
  {
   "cell_type": "code",
   "execution_count": 16,
   "id": "74caab1a-9df8-4822-9de6-d349745324b0",
   "metadata": {},
   "outputs": [
    {
     "name": "stdout",
     "output_type": "stream",
     "text": [
      "Data Type Size: 4\n",
      "Time elapsed on matrix multiplication of 4 32x32 . 32x32 on GPU: 1.021472 ms.\n",
      "\n",
      "\n",
      "Throughput: 0.06 GFLOPS\n",
      "\n"
     ]
    }
   ],
   "source": [
    "! echo -n \"cuda_tiled,\" >> metrics/latency.csv\n",
    "! cd metrics;  ./cudamm 32 0 2>> latency.csv"
   ]
  },
  {
   "cell_type": "code",
   "execution_count": 17,
   "id": "4b5d8118",
   "metadata": {},
   "outputs": [
    {
     "name": "stdout",
     "output_type": "stream",
     "text": [
      "Data Type Size: 4\n",
      "Time elapsed on matrix multiplication of 4 64x64 . 64x64 on GPU: 1.175872 ms.\n",
      "\n",
      "\n",
      "Throughput: 0.45 GFLOPS\n",
      "\n"
     ]
    }
   ],
   "source": [
    "! echo -n \"cuda_tiled,\" >> metrics/latency.csv\n",
    "! cd metrics;  ./cudamm 64 0 2>> latency.csv"
   ]
  },
  {
   "cell_type": "code",
   "execution_count": 13,
   "id": "bed8bdfc-6089-4854-8551-d420ec04a638",
   "metadata": {},
   "outputs": [
    {
     "data": {
      "text/html": [
       "<style type=\"text/css\">\n",
       "#T_2a52f_row0_col0, #T_2a52f_row0_col1, #T_2a52f_row0_col2, #T_2a52f_row0_col3, #T_2a52f_row0_col4, #T_2a52f_row0_col5, #T_2a52f_row1_col0, #T_2a52f_row1_col1, #T_2a52f_row1_col2, #T_2a52f_row1_col3, #T_2a52f_row1_col4, #T_2a52f_row1_col5, #T_2a52f_row2_col0, #T_2a52f_row2_col1, #T_2a52f_row2_col2, #T_2a52f_row2_col3, #T_2a52f_row2_col4, #T_2a52f_row2_col5 {\n",
       "  font-family: SF Mono;\n",
       "  font-size: 1.4vw;\n",
       "}\n",
       "</style>\n",
       "<table id=\"T_2a52f\">\n",
       "  <thead>\n",
       "    <tr>\n",
       "      <th class=\"blank level0\" >&nbsp;</th>\n",
       "      <th id=\"T_2a52f_level0_col0\" class=\"col_heading level0 col0\" >index</th>\n",
       "      <th id=\"T_2a52f_level0_col1\" class=\"col_heading level0 col1\" >algorithm</th>\n",
       "      <th id=\"T_2a52f_level0_col2\" class=\"col_heading level0 col2\" >data_type</th>\n",
       "      <th id=\"T_2a52f_level0_col3\" class=\"col_heading level0 col3\" >size</th>\n",
       "      <th id=\"T_2a52f_level0_col4\" class=\"col_heading level0 col4\" >time</th>\n",
       "      <th id=\"T_2a52f_level0_col5\" class=\"col_heading level0 col5\" >GLOPS</th>\n",
       "    </tr>\n",
       "  </thead>\n",
       "  <tbody>\n",
       "    <tr>\n",
       "      <th id=\"T_2a52f_level0_row0\" class=\"row_heading level0 row0\" >0</th>\n",
       "      <td id=\"T_2a52f_row0_col0\" class=\"data row0 col0\" >0</td>\n",
       "      <td id=\"T_2a52f_row0_col1\" class=\"data row0 col1\" >cuda_tiled</td>\n",
       "      <td id=\"T_2a52f_row0_col2\" class=\"data row0 col2\" >4</td>\n",
       "      <td id=\"T_2a52f_row0_col3\" class=\"data row0 col3\" > 16x16x16</td>\n",
       "      <td id=\"T_2a52f_row0_col4\" class=\"data row0 col4\" >2.261312</td>\n",
       "      <td id=\"T_2a52f_row0_col5\" class=\"data row0 col5\" >0.000000</td>\n",
       "    </tr>\n",
       "    <tr>\n",
       "      <th id=\"T_2a52f_level0_row1\" class=\"row_heading level0 row1\" >1</th>\n",
       "      <td id=\"T_2a52f_row1_col0\" class=\"data row1 col0\" >1</td>\n",
       "      <td id=\"T_2a52f_row1_col1\" class=\"data row1 col1\" >cuda_tiled</td>\n",
       "      <td id=\"T_2a52f_row1_col2\" class=\"data row1 col2\" >4</td>\n",
       "      <td id=\"T_2a52f_row1_col3\" class=\"data row1 col3\" > 32x32x32</td>\n",
       "      <td id=\"T_2a52f_row1_col4\" class=\"data row1 col4\" >7.353472</td>\n",
       "      <td id=\"T_2a52f_row1_col5\" class=\"data row1 col5\" >0.010000</td>\n",
       "    </tr>\n",
       "    <tr>\n",
       "      <th id=\"T_2a52f_level0_row2\" class=\"row_heading level0 row2\" >2</th>\n",
       "      <td id=\"T_2a52f_row2_col0\" class=\"data row2 col0\" >2</td>\n",
       "      <td id=\"T_2a52f_row2_col1\" class=\"data row2 col1\" >cuda_tiled</td>\n",
       "      <td id=\"T_2a52f_row2_col2\" class=\"data row2 col2\" >4</td>\n",
       "      <td id=\"T_2a52f_row2_col3\" class=\"data row2 col3\" > 64x64x64</td>\n",
       "      <td id=\"T_2a52f_row2_col4\" class=\"data row2 col4\" >5.579200</td>\n",
       "      <td id=\"T_2a52f_row2_col5\" class=\"data row2 col5\" >0.090000</td>\n",
       "    </tr>\n",
       "  </tbody>\n",
       "</table>\n"
      ],
      "text/plain": [
       "<pandas.io.formats.style.Styler at 0x74facafa2540>"
      ]
     },
     "metadata": {},
     "output_type": "display_data"
    }
   ],
   "source": [
    "display_df_mono(render_csv(\"./metrics/latency.csv\"))"
   ]
  },
  {
   "cell_type": "code",
   "execution_count": 19,
   "id": "e7b788b5-f68a-4961-86dc-5b3f9c6e238c",
   "metadata": {},
   "outputs": [
    {
     "name": "stdout",
     "output_type": "stream",
     "text": [
      "make: 'cpumm' is up to date.\n",
      "Data type size: 4\n",
      "\n",
      "Time: 0.002 ms\n",
      "\n",
      "Throughput: 3.62 GFLOPS\n",
      "\n"
     ]
    }
   ],
   "source": [
    "! cd metrics; make cpumm\n",
    "! echo -n \"cpu_tiled,\" >> metrics/latency.csv\n",
    "! cd metrics; ./cpumm 16 16 2>> latency.csv"
   ]
  },
  {
   "cell_type": "code",
   "execution_count": 20,
   "id": "8d04e90c-9448-4204-ba3f-c2826df300ca",
   "metadata": {},
   "outputs": [
    {
     "name": "stdout",
     "output_type": "stream",
     "text": [
      "Data type size: 4\r\n",
      "\r\n",
      "Time: 0.009 ms\r\n",
      "\r\n",
      "Throughput: 7.20 GFLOPS\r\n",
      "\r\n"
     ]
    }
   ],
   "source": [
    "! echo -n \"cpu_tiled,\" >> metrics/latency.csv\n",
    "! cd metrics; ./cpumm 32 16 2>> latency.csv"
   ]
  },
  {
   "cell_type": "code",
   "execution_count": null,
   "id": "336458d5-8733-45bf-8d58-542d4c479451",
   "metadata": {},
   "outputs": [],
   "source": [
    "! echo -n \"cpu_tiled,\" >> metrics/latency.csv\n",
    "! cd metrics; ./cpumm 64 16 2>> latency.csv"
   ]
  },
  {
   "cell_type": "code",
   "execution_count": null,
   "id": "454a78e1-4511-4356-ab08-801538c6f16e",
   "metadata": {},
   "outputs": [],
   "source": [
    "display_df_mono(render_csv(\"./metrics/latency.csv\"))"
   ]
  },
  {
   "cell_type": "markdown",
   "id": "922168ca-a3aa-4a24-8476-6a4c5e375573",
   "metadata": {},
   "source": [
    "GPU is like a bus (high throughput)! CPU is like an Uber (short latency)!"
   ]
  },
  {
   "cell_type": "code",
   "execution_count": null,
   "id": "a6e99374-fadc-4bab-ad3c-53a14cc36a30",
   "metadata": {},
   "outputs": [],
   "source": []
  }
 ],
 "metadata": {
  "kernelspec": {
   "display_name": "Python 3 (ipykernel)",
   "language": "python",
   "name": "python3"
  },
  "language_info": {
   "codemirror_mode": {
    "name": "ipython",
    "version": 3
   },
   "file_extension": ".py",
   "mimetype": "text/x-python",
   "name": "python",
   "nbconvert_exporter": "python",
   "pygments_lexer": "ipython3",
   "version": "3.12.3"
  },
  "widgets": {
   "application/vnd.jupyter.widget-state+json": {
    "state": {},
    "version_major": 2,
    "version_minor": 0
   }
  }
 },
 "nbformat": 4,
 "nbformat_minor": 5
}
