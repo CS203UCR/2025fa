{
 "cells": [
  {
   "cell_type": "code",
   "execution_count": 34,
   "id": "39bd05fd-cae3-4bed-9b16-0114306cfc72",
   "metadata": {},
   "outputs": [
    {
     "name": "stdout",
     "output_type": "stream",
     "text": [
      "The autoreload extension is already loaded. To reload it, use:\n",
      "  %reload_ext autoreload\n"
     ]
    }
   ],
   "source": [
    "# Please execute/shift-return this cell everytime you run the notebook.  Don't edit it. \n",
    "%load_ext autoreload\n",
    "%autoreload 2\n",
    "from notebook import * "
   ]
  },
  {
   "cell_type": "markdown",
   "id": "9aebafa3-2b3e-4088-a67e-18e3798a0f9f",
   "metadata": {},
   "source": [
    "## FLOPs"
   ]
  },
  {
   "cell_type": "code",
   "execution_count": 35,
   "id": "73fc5649-4d2c-4d33-aaf9-15a4b3e52b7e",
   "metadata": {},
   "outputs": [
    {
     "name": "stdout",
     "output_type": "stream",
     "text": [
      "Architecture:                x86_64\r\n",
      "  CPU op-mode(s):            32-bit, 64-bit\r\n",
      "  Address sizes:             46 bits physical, 48 bits virtual\r\n",
      "  Byte Order:                Little Endian\r\n",
      "CPU(s):                      28\r\n",
      "  On-line CPU(s) list:       0-27\r\n",
      "Vendor ID:                   GenuineIntel\r\n",
      "  Model name:                Intel(R) Core(TM) i7-14700K\r\n",
      "    CPU family:              6\r\n",
      "    Model:                   183\r\n",
      "    Thread(s) per core:      2\r\n",
      "    Core(s) per socket:      20\r\n",
      "    Socket(s):               1\r\n",
      "    Stepping:                1\r\n",
      "    CPU(s) scaling MHz:      28%\r\n",
      "    CPU max MHz:             5600.0000\r\n",
      "    CPU min MHz:             800.0000\r\n",
      "    BogoMIPS:                6835.20\r\n",
      "    Flags:                   fpu vme de pse tsc msr pae mce cx8 apic sep mtrr pg\r\n",
      "                             e mca cmov pat pse36 clflush dts acpi mmx fxsr sse \r\n",
      "                             sse2 ss ht tm pbe syscall nx pdpe1gb rdtscp lm cons\r\n",
      "                             tant_tsc art arch_perfmon pebs bts rep_good nopl xt\r\n",
      "                             opology nonstop_tsc cpuid aperfmperf tsc_known_freq\r\n",
      "                              pni pclmulqdq dtes64 monitor ds_cpl vmx smx est tm\r\n",
      "                             2 ssse3 sdbg fma cx16 xtpr pdcm pcid sse4_1 sse4_2 \r\n",
      "                             x2apic movbe popcnt tsc_deadline_timer aes xsave av\r\n",
      "                             x f16c rdrand lahf_lm abm 3dnowprefetch cpuid_fault\r\n",
      "                              epb ssbd ibrs ibpb stibp ibrs_enhanced tpr_shadow \r\n",
      "                             flexpriority ept vpid ept_ad fsgsbase tsc_adjust bm\r\n",
      "                             i1 avx2 smep bmi2 erms invpcid rdseed adx smap clfl\r\n",
      "                             ushopt clwb intel_pt sha_ni xsaveopt xsavec xgetbv1\r\n",
      "                              xsaves split_lock_detect user_shstk avx_vnni dther\r\n",
      "                             m ida arat pln pts hwp hwp_notify hwp_act_window hw\r\n",
      "                             p_epp hwp_pkg_req hfi vnmi umip pku ospke waitpkg g\r\n",
      "                             fni vaes vpclmulqdq rdpid movdiri movdir64b fsrm md\r\n",
      "                             _clear serialize pconfig arch_lbr ibt flush_l1d arc\r\n",
      "                             h_capabilities\r\n",
      "Virtualization features:     \r\n",
      "  Virtualization:            VT-x\r\n",
      "Caches (sum of all):         \r\n",
      "  L1d:                       768 KiB (20 instances)\r\n",
      "  L1i:                       1 MiB (20 instances)\r\n",
      "  L2:                        28 MiB (11 instances)\r\n",
      "  L3:                        33 MiB (1 instance)\r\n",
      "NUMA:                        \r\n",
      "  NUMA node(s):              1\r\n",
      "  NUMA node0 CPU(s):         0-27\r\n",
      "Vulnerabilities:             \r\n",
      "  Gather data sampling:      Not affected\r\n",
      "  Ghostwrite:                Not affected\r\n",
      "  Indirect target selection: Not affected\r\n",
      "  Itlb multihit:             Not affected\r\n",
      "  L1tf:                      Not affected\r\n",
      "  Mds:                       Not affected\r\n",
      "  Meltdown:                  Not affected\r\n",
      "  Mmio stale data:           Not affected\r\n",
      "  Reg file data sampling:    Mitigation; Clear Register File\r\n",
      "  Retbleed:                  Not affected\r\n",
      "  Spec rstack overflow:      Not affected\r\n",
      "  Spec store bypass:         Mitigation; Speculative Store Bypass disabled via p\r\n",
      "                             rctl\r\n",
      "  Spectre v1:                Mitigation; usercopy/swapgs barriers and __user poi\r\n",
      "                             nter sanitization\r\n",
      "  Spectre v2:                Mitigation; Enhanced / Automatic IBRS; IBPB conditi\r\n",
      "                             onal; PBRSB-eIBRS SW sequence; BHI BHI_DIS_S\r\n",
      "  Srbds:                     Not affected\r\n",
      "  Tsx async abort:           Not affected\r\n"
     ]
    }
   ],
   "source": [
    "! lscpu"
   ]
  },
  {
   "cell_type": "code",
   "execution_count": 3,
   "id": "adc5e076-a14e-427b-be9b-67e2eaacdb0d",
   "metadata": {},
   "outputs": [
    {
     "name": "stdout",
     "output_type": "stream",
     "text": [
      "Thu Oct  2 09:04:00 2025       \n",
      "+-----------------------------------------------------------------------------------------+\n",
      "| NVIDIA-SMI 580.65.06              Driver Version: 580.65.06      CUDA Version: 13.0     |\n",
      "+-----------------------------------------+------------------------+----------------------+\n",
      "| GPU  Name                 Persistence-M | Bus-Id          Disp.A | Volatile Uncorr. ECC |\n",
      "| Fan  Temp   Perf          Pwr:Usage/Cap |           Memory-Usage | GPU-Util  Compute M. |\n",
      "|                                         |                        |               MIG M. |\n",
      "|=========================================+========================+======================|\n",
      "|   0  NVIDIA GeForce RTX 4070 ...    On  |   00000000:01:00.0 Off |                  N/A |\n",
      "| 32%   34C    P8             16W /  100W |      15MiB /  16376MiB |      0%      Default |\n",
      "|                                         |                        |                  N/A |\n",
      "+-----------------------------------------+------------------------+----------------------+\n",
      "\n",
      "+-----------------------------------------------------------------------------------------+\n",
      "| Processes:                                                                              |\n",
      "|  GPU   GI   CI              PID   Type   Process name                        GPU Memory |\n",
      "|        ID   ID                                                               Usage      |\n",
      "|=========================================================================================|\n",
      "|    0   N/A  N/A            2367      G   /usr/lib/xorg/Xorg                        4MiB |\n",
      "+-----------------------------------------------------------------------------------------+\n"
     ]
    }
   ],
   "source": [
    "! nvidia-smi"
   ]
  },
  {
   "cell_type": "code",
   "execution_count": 36,
   "id": "63158edb-722c-4f04-88fe-4080b9c7e99e",
   "metadata": {},
   "outputs": [
    {
     "name": "stdout",
     "output_type": "stream",
     "text": [
      "make: Nothing to be done for 'all'.\r\n"
     ]
    }
   ],
   "source": [
    "! cd metrics; make; echo \"algorithm,data_type,size,time,GLOPS\" > flops.csv"
   ]
  },
  {
   "cell_type": "code",
   "execution_count": 37,
   "id": "5dd903d6-e9d8-498a-a1e5-b5ef03c624e9",
   "metadata": {},
   "outputs": [
    {
     "name": "stdout",
     "output_type": "stream",
     "text": [
      "Data type size: 4\n",
      "\n",
      "Time: 14922.240 ms\n",
      "\n",
      "Throughput: 1.15 GFLOPS\n",
      "\n",
      "\n",
      "real\t0m15.018s\n",
      "user\t0m15.003s\n",
      "sys\t0m0.011s\n"
     ]
    }
   ],
   "source": [
    "! cd ./metrics;  echo -n \"tiled_cpu,\" >> flops.csv\n",
    "! cd ./metrics; time ./cpumm 2048 512 2>> flops.csv "
   ]
  },
  {
   "cell_type": "code",
   "execution_count": 38,
   "id": "51531017-ea4a-4fe9-afe0-91ca7d43d9b1",
   "metadata": {},
   "outputs": [
    {
     "name": "stdout",
     "output_type": "stream",
     "text": [
      "Data Type Size: 4\n",
      "Time elapsed on matrix multiplication of 4 2048x2048 . 2048x2048 on GPU: 54.060673 ms.\n",
      "\n",
      "\n",
      "Throughput: 317.79 GFLOPS\n",
      "\n",
      "\n",
      "real\t0m0.330s\n",
      "user\t0m0.182s\n",
      "sys\t0m0.143s\n",
      "Data Type Size: 4\n",
      "Time elapsed on matrix multiplication of 4 2048x2048 . 2048x2048 on GPU: 62.809311 ms.\n",
      "\n",
      "\n",
      "Throughput: 273.52 GFLOPS\n",
      "\n",
      "\n",
      "real\t0m0.332s\n",
      "user\t0m0.183s\n",
      "sys\t0m0.147s\n",
      "Data Type Size: 4\n",
      "Time elapsed on matrix multiplication of 4 4096x4096 . 4096x4096 on GPU: 228.856674 ms.\n",
      "\n",
      "\n",
      "Throughput: 600.55 GFLOPS\n",
      "\n",
      "\n",
      "real\t0m0.765s\n",
      "user\t0m0.586s\n",
      "sys\t0m0.175s\n",
      "Data Type Size: 4\n",
      "Time elapsed on matrix multiplication of 4 4096x4096 . 4096x4096 on GPU: 347.617004 ms.\n",
      "\n",
      "\n",
      "Throughput: 395.37 GFLOPS\n",
      "\n",
      "\n",
      "real\t0m0.853s\n",
      "user\t0m0.680s\n",
      "sys\t0m0.168s\n",
      "Data Type Size: 4\n",
      "Time elapsed on matrix multiplication of 4 8192x8192 . 8192x8192 on GPU: 1611.650879 ms.\n",
      "\n",
      "\n",
      "Throughput: 682.23 GFLOPS\n",
      "\n",
      "\n",
      "real\t0m3.155s\n",
      "user\t0m2.838s\n",
      "sys\t0m0.314s\n",
      "Data Type Size: 4\n",
      "Time elapsed on matrix multiplication of 4 8192x8192 . 8192x8192 on GPU: 2314.724854 ms.\n",
      "\n",
      "\n",
      "Throughput: 475.01 GFLOPS\n",
      "\n",
      "\n",
      "real\t0m3.853s\n",
      "user\t0m3.533s\n",
      "sys\t0m0.316s\n",
      "Data Type Size: 8\n",
      "Time elapsed on matrix multiplication of 8 4096x4096 . 4096x4096 on GPU: 426.524170 ms.\n",
      "\n",
      "\n",
      "Throughput: 322.23 GFLOPS\n",
      "\n",
      "\n",
      "real\t0m1.000s\n",
      "user\t0m0.772s\n",
      "sys\t0m0.220s\n",
      "Data Type Size: 4\n",
      "Time elapsed on matrix multiplication of 4 4096x4096 . 4096x4096 on GPU: 320.910461 ms.\n",
      "\n",
      "\n",
      "Throughput: 428.28 GFLOPS\n",
      "\n",
      "\n",
      "real\t0m0.842s\n",
      "user\t0m0.668s\n",
      "sys\t0m0.166s\n",
      "Data Type Size: 8\n",
      "Time elapsed on matrix multiplication of 8 8192x8192 . 8192x8192 on GPU: 3750.508057 ms.\n",
      "\n",
      "\n",
      "Throughput: 293.16 GFLOPS\n",
      "\n",
      "\n",
      "real\t0m5.423s\n",
      "user\t0m4.950s\n",
      "sys\t0m0.470s\n",
      "Data Type Size: 4\n",
      "Time elapsed on matrix multiplication of 4 8192x8192 . 8192x8192 on GPU: 1526.561035 ms.\n",
      "\n",
      "\n",
      "Throughput: 720.25 GFLOPS\n",
      "\n",
      "\n",
      "real\t0m3.069s\n",
      "user\t0m2.785s\n",
      "sys\t0m0.279s\n"
     ]
    }
   ],
   "source": [
    "! cd ./metrics;  echo -n \"tiled,\" >> flops.csv\n",
    "! cd ./metrics; time ./cudamm 2048 1 2>> flops.csv \n",
    "! cd ./metrics;  echo -n \"standard,\" >> flops.csv\n",
    "! cd ./metrics; time ./cudamm 2048 0 2>> flops.csv \n",
    "! cd ./metrics;  echo -n \"tiled,\" >> flops.csv\n",
    "! cd ./metrics; time ./cudamm 4096 1 2>> flops.csv \n",
    "! cd ./metrics;  echo -n \"standard,\" >> flops.csv\n",
    "! cd ./metrics; time ./cudamm 4096 0 2>> flops.csv \n",
    "! cd ./metrics;  echo -n \"tiled,\" >> flops.csv\n",
    "! cd ./metrics; time ./cudamm 8192 1 2>> flops.csv \n",
    "! cd ./metrics;  echo -n \"standard,\" >> flops.csv\n",
    "! cd ./metrics; time ./cudamm 8192 0 2>> flops.csv \n",
    "! cd ./metrics;  echo -n \"tiled,\" >> flops.csv\n",
    "! cd ./metrics; time ./cudamm_double 4096 1 2>> flops.csv \n",
    "! cd ./metrics;  echo -n \"tiled,\" >> flops.csv\n",
    "! cd ./metrics; time ./cudamm_int 4096 1 2>> flops.csv \n",
    "! cd ./metrics;  echo -n \"tiled,\" >> flops.csv\n",
    "! cd ./metrics; time ./cudamm_double 8192 1 2>> flops.csv \n",
    "! cd ./metrics;  echo -n \"tiled,\" >> flops.csv\n",
    "! cd ./metrics; time ./cudamm_int 8192 1 2>> flops.csv "
   ]
  },
  {
   "cell_type": "code",
   "execution_count": 39,
   "id": "741ecab5-56a2-4398-a766-f952404fce63",
   "metadata": {},
   "outputs": [
    {
     "data": {
      "text/html": [
       "<style type=\"text/css\">\n",
       "#T_b57c7_row0_col0, #T_b57c7_row0_col1, #T_b57c7_row0_col2, #T_b57c7_row0_col3, #T_b57c7_row0_col4, #T_b57c7_row0_col5, #T_b57c7_row1_col0, #T_b57c7_row1_col1, #T_b57c7_row1_col2, #T_b57c7_row1_col3, #T_b57c7_row1_col4, #T_b57c7_row1_col5, #T_b57c7_row2_col0, #T_b57c7_row2_col1, #T_b57c7_row2_col2, #T_b57c7_row2_col3, #T_b57c7_row2_col4, #T_b57c7_row2_col5, #T_b57c7_row3_col0, #T_b57c7_row3_col1, #T_b57c7_row3_col2, #T_b57c7_row3_col3, #T_b57c7_row3_col4, #T_b57c7_row3_col5, #T_b57c7_row4_col0, #T_b57c7_row4_col1, #T_b57c7_row4_col2, #T_b57c7_row4_col3, #T_b57c7_row4_col4, #T_b57c7_row4_col5, #T_b57c7_row5_col0, #T_b57c7_row5_col1, #T_b57c7_row5_col2, #T_b57c7_row5_col3, #T_b57c7_row5_col4, #T_b57c7_row5_col5, #T_b57c7_row6_col0, #T_b57c7_row6_col1, #T_b57c7_row6_col2, #T_b57c7_row6_col3, #T_b57c7_row6_col4, #T_b57c7_row6_col5, #T_b57c7_row7_col0, #T_b57c7_row7_col1, #T_b57c7_row7_col2, #T_b57c7_row7_col3, #T_b57c7_row7_col4, #T_b57c7_row7_col5, #T_b57c7_row8_col0, #T_b57c7_row8_col1, #T_b57c7_row8_col2, #T_b57c7_row8_col3, #T_b57c7_row8_col4, #T_b57c7_row8_col5, #T_b57c7_row9_col0, #T_b57c7_row9_col1, #T_b57c7_row9_col2, #T_b57c7_row9_col3, #T_b57c7_row9_col4, #T_b57c7_row9_col5, #T_b57c7_row10_col0, #T_b57c7_row10_col1, #T_b57c7_row10_col2, #T_b57c7_row10_col3, #T_b57c7_row10_col4, #T_b57c7_row10_col5 {\n",
       "  font-family: SF Mono;\n",
       "  font-size: 1.4vw;\n",
       "}\n",
       "</style>\n",
       "<table id=\"T_b57c7\">\n",
       "  <thead>\n",
       "    <tr>\n",
       "      <th class=\"blank level0\" >&nbsp;</th>\n",
       "      <th id=\"T_b57c7_level0_col0\" class=\"col_heading level0 col0\" >index</th>\n",
       "      <th id=\"T_b57c7_level0_col1\" class=\"col_heading level0 col1\" >algorithm</th>\n",
       "      <th id=\"T_b57c7_level0_col2\" class=\"col_heading level0 col2\" >data_type</th>\n",
       "      <th id=\"T_b57c7_level0_col3\" class=\"col_heading level0 col3\" >size</th>\n",
       "      <th id=\"T_b57c7_level0_col4\" class=\"col_heading level0 col4\" >time</th>\n",
       "      <th id=\"T_b57c7_level0_col5\" class=\"col_heading level0 col5\" >GLOPS</th>\n",
       "    </tr>\n",
       "  </thead>\n",
       "  <tbody>\n",
       "    <tr>\n",
       "      <th id=\"T_b57c7_level0_row0\" class=\"row_heading level0 row0\" >0</th>\n",
       "      <td id=\"T_b57c7_row0_col0\" class=\"data row0 col0\" >0</td>\n",
       "      <td id=\"T_b57c7_row0_col1\" class=\"data row0 col1\" >tiled_cpu</td>\n",
       "      <td id=\"T_b57c7_row0_col2\" class=\"data row0 col2\" >4</td>\n",
       "      <td id=\"T_b57c7_row0_col3\" class=\"data row0 col3\" >2048x2048x2048</td>\n",
       "      <td id=\"T_b57c7_row0_col4\" class=\"data row0 col4\" >14922.239906</td>\n",
       "      <td id=\"T_b57c7_row0_col5\" class=\"data row0 col5\" >1.150000</td>\n",
       "    </tr>\n",
       "    <tr>\n",
       "      <th id=\"T_b57c7_level0_row1\" class=\"row_heading level0 row1\" >1</th>\n",
       "      <td id=\"T_b57c7_row1_col0\" class=\"data row1 col0\" >1</td>\n",
       "      <td id=\"T_b57c7_row1_col1\" class=\"data row1 col1\" >tiled</td>\n",
       "      <td id=\"T_b57c7_row1_col2\" class=\"data row1 col2\" >4</td>\n",
       "      <td id=\"T_b57c7_row1_col3\" class=\"data row1 col3\" > 2048x2048x2048</td>\n",
       "      <td id=\"T_b57c7_row1_col4\" class=\"data row1 col4\" >54.060673</td>\n",
       "      <td id=\"T_b57c7_row1_col5\" class=\"data row1 col5\" >317.790000</td>\n",
       "    </tr>\n",
       "    <tr>\n",
       "      <th id=\"T_b57c7_level0_row2\" class=\"row_heading level0 row2\" >2</th>\n",
       "      <td id=\"T_b57c7_row2_col0\" class=\"data row2 col0\" >2</td>\n",
       "      <td id=\"T_b57c7_row2_col1\" class=\"data row2 col1\" >standard</td>\n",
       "      <td id=\"T_b57c7_row2_col2\" class=\"data row2 col2\" >4</td>\n",
       "      <td id=\"T_b57c7_row2_col3\" class=\"data row2 col3\" > 2048x2048x2048</td>\n",
       "      <td id=\"T_b57c7_row2_col4\" class=\"data row2 col4\" >62.809311</td>\n",
       "      <td id=\"T_b57c7_row2_col5\" class=\"data row2 col5\" >273.520000</td>\n",
       "    </tr>\n",
       "    <tr>\n",
       "      <th id=\"T_b57c7_level0_row3\" class=\"row_heading level0 row3\" >3</th>\n",
       "      <td id=\"T_b57c7_row3_col0\" class=\"data row3 col0\" >3</td>\n",
       "      <td id=\"T_b57c7_row3_col1\" class=\"data row3 col1\" >tiled</td>\n",
       "      <td id=\"T_b57c7_row3_col2\" class=\"data row3 col2\" >4</td>\n",
       "      <td id=\"T_b57c7_row3_col3\" class=\"data row3 col3\" > 4096x4096x4096</td>\n",
       "      <td id=\"T_b57c7_row3_col4\" class=\"data row3 col4\" >228.856674</td>\n",
       "      <td id=\"T_b57c7_row3_col5\" class=\"data row3 col5\" >600.550000</td>\n",
       "    </tr>\n",
       "    <tr>\n",
       "      <th id=\"T_b57c7_level0_row4\" class=\"row_heading level0 row4\" >4</th>\n",
       "      <td id=\"T_b57c7_row4_col0\" class=\"data row4 col0\" >4</td>\n",
       "      <td id=\"T_b57c7_row4_col1\" class=\"data row4 col1\" >standard</td>\n",
       "      <td id=\"T_b57c7_row4_col2\" class=\"data row4 col2\" >4</td>\n",
       "      <td id=\"T_b57c7_row4_col3\" class=\"data row4 col3\" > 4096x4096x4096</td>\n",
       "      <td id=\"T_b57c7_row4_col4\" class=\"data row4 col4\" >347.617004</td>\n",
       "      <td id=\"T_b57c7_row4_col5\" class=\"data row4 col5\" >395.370000</td>\n",
       "    </tr>\n",
       "    <tr>\n",
       "      <th id=\"T_b57c7_level0_row5\" class=\"row_heading level0 row5\" >5</th>\n",
       "      <td id=\"T_b57c7_row5_col0\" class=\"data row5 col0\" >5</td>\n",
       "      <td id=\"T_b57c7_row5_col1\" class=\"data row5 col1\" >tiled</td>\n",
       "      <td id=\"T_b57c7_row5_col2\" class=\"data row5 col2\" >4</td>\n",
       "      <td id=\"T_b57c7_row5_col3\" class=\"data row5 col3\" > 8192x8192x8192</td>\n",
       "      <td id=\"T_b57c7_row5_col4\" class=\"data row5 col4\" >1611.650879</td>\n",
       "      <td id=\"T_b57c7_row5_col5\" class=\"data row5 col5\" >682.230000</td>\n",
       "    </tr>\n",
       "    <tr>\n",
       "      <th id=\"T_b57c7_level0_row6\" class=\"row_heading level0 row6\" >6</th>\n",
       "      <td id=\"T_b57c7_row6_col0\" class=\"data row6 col0\" >6</td>\n",
       "      <td id=\"T_b57c7_row6_col1\" class=\"data row6 col1\" >standard</td>\n",
       "      <td id=\"T_b57c7_row6_col2\" class=\"data row6 col2\" >4</td>\n",
       "      <td id=\"T_b57c7_row6_col3\" class=\"data row6 col3\" > 8192x8192x8192</td>\n",
       "      <td id=\"T_b57c7_row6_col4\" class=\"data row6 col4\" >2314.724854</td>\n",
       "      <td id=\"T_b57c7_row6_col5\" class=\"data row6 col5\" >475.010000</td>\n",
       "    </tr>\n",
       "    <tr>\n",
       "      <th id=\"T_b57c7_level0_row7\" class=\"row_heading level0 row7\" >7</th>\n",
       "      <td id=\"T_b57c7_row7_col0\" class=\"data row7 col0\" >7</td>\n",
       "      <td id=\"T_b57c7_row7_col1\" class=\"data row7 col1\" >tiled</td>\n",
       "      <td id=\"T_b57c7_row7_col2\" class=\"data row7 col2\" >8</td>\n",
       "      <td id=\"T_b57c7_row7_col3\" class=\"data row7 col3\" > 4096x4096x4096</td>\n",
       "      <td id=\"T_b57c7_row7_col4\" class=\"data row7 col4\" >426.524170</td>\n",
       "      <td id=\"T_b57c7_row7_col5\" class=\"data row7 col5\" >322.230000</td>\n",
       "    </tr>\n",
       "    <tr>\n",
       "      <th id=\"T_b57c7_level0_row8\" class=\"row_heading level0 row8\" >8</th>\n",
       "      <td id=\"T_b57c7_row8_col0\" class=\"data row8 col0\" >8</td>\n",
       "      <td id=\"T_b57c7_row8_col1\" class=\"data row8 col1\" >tiled</td>\n",
       "      <td id=\"T_b57c7_row8_col2\" class=\"data row8 col2\" >4</td>\n",
       "      <td id=\"T_b57c7_row8_col3\" class=\"data row8 col3\" > 4096x4096x4096</td>\n",
       "      <td id=\"T_b57c7_row8_col4\" class=\"data row8 col4\" >320.910461</td>\n",
       "      <td id=\"T_b57c7_row8_col5\" class=\"data row8 col5\" >428.280000</td>\n",
       "    </tr>\n",
       "    <tr>\n",
       "      <th id=\"T_b57c7_level0_row9\" class=\"row_heading level0 row9\" >9</th>\n",
       "      <td id=\"T_b57c7_row9_col0\" class=\"data row9 col0\" >9</td>\n",
       "      <td id=\"T_b57c7_row9_col1\" class=\"data row9 col1\" >tiled</td>\n",
       "      <td id=\"T_b57c7_row9_col2\" class=\"data row9 col2\" >8</td>\n",
       "      <td id=\"T_b57c7_row9_col3\" class=\"data row9 col3\" > 8192x8192x8192</td>\n",
       "      <td id=\"T_b57c7_row9_col4\" class=\"data row9 col4\" >3750.508057</td>\n",
       "      <td id=\"T_b57c7_row9_col5\" class=\"data row9 col5\" >293.160000</td>\n",
       "    </tr>\n",
       "    <tr>\n",
       "      <th id=\"T_b57c7_level0_row10\" class=\"row_heading level0 row10\" >10</th>\n",
       "      <td id=\"T_b57c7_row10_col0\" class=\"data row10 col0\" >10</td>\n",
       "      <td id=\"T_b57c7_row10_col1\" class=\"data row10 col1\" >tiled</td>\n",
       "      <td id=\"T_b57c7_row10_col2\" class=\"data row10 col2\" >4</td>\n",
       "      <td id=\"T_b57c7_row10_col3\" class=\"data row10 col3\" > 8192x8192x8192</td>\n",
       "      <td id=\"T_b57c7_row10_col4\" class=\"data row10 col4\" >1526.561035</td>\n",
       "      <td id=\"T_b57c7_row10_col5\" class=\"data row10 col5\" >720.250000</td>\n",
       "    </tr>\n",
       "  </tbody>\n",
       "</table>\n"
      ],
      "text/plain": [
       "<pandas.io.formats.style.Styler at 0x7f209c280770>"
      ]
     },
     "metadata": {},
     "output_type": "display_data"
    }
   ],
   "source": [
    "display_df_mono(render_csv(\"./metrics/flops.csv\"))"
   ]
  },
  {
   "cell_type": "code",
   "execution_count": 41,
   "id": "3dfc901b-42a7-44aa-9d30-1a75576e18cb",
   "metadata": {},
   "outputs": [
    {
     "name": "stdout",
     "output_type": "stream",
     "text": [
      "Tue Oct  7 11:28:57 2025       \n",
      "+-----------------------------------------------------------------------------------------+\n",
      "| NVIDIA-SMI 555.42.06              Driver Version: 555.42.06      CUDA Version: 12.5     |\n",
      "|-----------------------------------------+------------------------+----------------------+\n",
      "| GPU  Name                 Persistence-M | Bus-Id          Disp.A | Volatile Uncorr. ECC |\n",
      "| Fan  Temp   Perf          Pwr:Usage/Cap |           Memory-Usage | GPU-Util  Compute M. |\n",
      "|                                         |                        |               MIG M. |\n",
      "|=========================================+========================+======================|\n",
      "|   0  NVIDIA GeForce RTX 4090        On  |   00000000:01:00.0 Off |                  Off |\n",
      "|  0%   40C    P8              4W /  450W |       2MiB /  24564MiB |      0%      Default |\n",
      "|                                         |                        |                  N/A |\n",
      "+-----------------------------------------+------------------------+----------------------+\n",
      "                                                                                         \n",
      "+-----------------------------------------------------------------------------------------+\n",
      "| Processes:                                                                              |\n",
      "|  GPU   GI   CI        PID   Type   Process name                              GPU Memory |\n",
      "|        ID   ID                                                               Usage      |\n",
      "|=========================================================================================|\n",
      "|  No running processes found                                                             |\n",
      "+-----------------------------------------------------------------------------------------+\n",
      "Data Type Size: 4\n",
      "Time elapsed on matrix multiplication of 4 8192x8192 . 8192x8192 on GPU: 347.988403 ms.\n",
      "\n",
      "\n",
      "Throughput: 3159.62 GFLOPS\n",
      "\n",
      "\n",
      "real\t0m1.898s\n",
      "user\t0m1.515s\n",
      "sys\t0m0.377s\n"
     ]
    }
   ],
   "source": [
    "! cd ./metrics;  echo -n \"tiled_rtx4090,\" >> flops.csv\n",
    "! ssh htseng@lapras \"nvidia-smi; time /nfshome/htseng/courses/CS203/demo/throughput_latency/metrics/cudamm 8192 1 2>> /nfshome/htseng/courses/CS203/demo/throughput_latency/metrics/flops.csv \""
   ]
  },
  {
   "cell_type": "code",
   "execution_count": 42,
   "id": "a9ae5d05-40c9-4f54-8996-07e07327a73e",
   "metadata": {},
   "outputs": [
    {
     "name": "stdout",
     "output_type": "stream",
     "text": [
      "Data Type Size: 4\n",
      "Time elapsed on matrix multiplication of 4 4096x4096 . 4096x4096 on GPU: 49.296703 ms.\n",
      "\n",
      "\n",
      "Throughput: 2787.99 GFLOPS\n",
      "\n",
      "\n",
      "real\t0m0.588s\n",
      "user\t0m0.353s\n",
      "sys\t0m0.231s\n"
     ]
    }
   ],
   "source": [
    "! cd ./metrics;  echo -n \"tiled_rtx4090,\" >> flops.csv\n",
    "! ssh htseng@lapras \"time /nfshome/htseng/courses/CS203/demo/throughput_latency/metrics/cudamm 4096 1 2>> /nfshome/htseng/courses/CS203/demo/throughput_latency/metrics/flops.csv \""
   ]
  },
  {
   "cell_type": "code",
   "execution_count": 43,
   "id": "139c229c-afa3-4420-982e-9c45a9f0c3ba",
   "metadata": {},
   "outputs": [
    {
     "data": {
      "text/html": [
       "<style type=\"text/css\">\n",
       "#T_5a7c2_row0_col0, #T_5a7c2_row0_col1, #T_5a7c2_row0_col2, #T_5a7c2_row0_col3, #T_5a7c2_row0_col4, #T_5a7c2_row0_col5, #T_5a7c2_row1_col0, #T_5a7c2_row1_col1, #T_5a7c2_row1_col2, #T_5a7c2_row1_col3, #T_5a7c2_row1_col4, #T_5a7c2_row1_col5, #T_5a7c2_row2_col0, #T_5a7c2_row2_col1, #T_5a7c2_row2_col2, #T_5a7c2_row2_col3, #T_5a7c2_row2_col4, #T_5a7c2_row2_col5, #T_5a7c2_row3_col0, #T_5a7c2_row3_col1, #T_5a7c2_row3_col2, #T_5a7c2_row3_col3, #T_5a7c2_row3_col4, #T_5a7c2_row3_col5, #T_5a7c2_row4_col0, #T_5a7c2_row4_col1, #T_5a7c2_row4_col2, #T_5a7c2_row4_col3, #T_5a7c2_row4_col4, #T_5a7c2_row4_col5, #T_5a7c2_row5_col0, #T_5a7c2_row5_col1, #T_5a7c2_row5_col2, #T_5a7c2_row5_col3, #T_5a7c2_row5_col4, #T_5a7c2_row5_col5, #T_5a7c2_row6_col0, #T_5a7c2_row6_col1, #T_5a7c2_row6_col2, #T_5a7c2_row6_col3, #T_5a7c2_row6_col4, #T_5a7c2_row6_col5, #T_5a7c2_row7_col0, #T_5a7c2_row7_col1, #T_5a7c2_row7_col2, #T_5a7c2_row7_col3, #T_5a7c2_row7_col4, #T_5a7c2_row7_col5, #T_5a7c2_row8_col0, #T_5a7c2_row8_col1, #T_5a7c2_row8_col2, #T_5a7c2_row8_col3, #T_5a7c2_row8_col4, #T_5a7c2_row8_col5, #T_5a7c2_row9_col0, #T_5a7c2_row9_col1, #T_5a7c2_row9_col2, #T_5a7c2_row9_col3, #T_5a7c2_row9_col4, #T_5a7c2_row9_col5, #T_5a7c2_row10_col0, #T_5a7c2_row10_col1, #T_5a7c2_row10_col2, #T_5a7c2_row10_col3, #T_5a7c2_row10_col4, #T_5a7c2_row10_col5, #T_5a7c2_row11_col0, #T_5a7c2_row11_col1, #T_5a7c2_row11_col2, #T_5a7c2_row11_col3, #T_5a7c2_row11_col4, #T_5a7c2_row11_col5, #T_5a7c2_row12_col0, #T_5a7c2_row12_col1, #T_5a7c2_row12_col2, #T_5a7c2_row12_col3, #T_5a7c2_row12_col4, #T_5a7c2_row12_col5 {\n",
       "  font-family: SF Mono;\n",
       "  font-size: 1.4vw;\n",
       "}\n",
       "</style>\n",
       "<table id=\"T_5a7c2\">\n",
       "  <thead>\n",
       "    <tr>\n",
       "      <th class=\"blank level0\" >&nbsp;</th>\n",
       "      <th id=\"T_5a7c2_level0_col0\" class=\"col_heading level0 col0\" >index</th>\n",
       "      <th id=\"T_5a7c2_level0_col1\" class=\"col_heading level0 col1\" >algorithm</th>\n",
       "      <th id=\"T_5a7c2_level0_col2\" class=\"col_heading level0 col2\" >data_type</th>\n",
       "      <th id=\"T_5a7c2_level0_col3\" class=\"col_heading level0 col3\" >size</th>\n",
       "      <th id=\"T_5a7c2_level0_col4\" class=\"col_heading level0 col4\" >time</th>\n",
       "      <th id=\"T_5a7c2_level0_col5\" class=\"col_heading level0 col5\" >GLOPS</th>\n",
       "    </tr>\n",
       "  </thead>\n",
       "  <tbody>\n",
       "    <tr>\n",
       "      <th id=\"T_5a7c2_level0_row0\" class=\"row_heading level0 row0\" >0</th>\n",
       "      <td id=\"T_5a7c2_row0_col0\" class=\"data row0 col0\" >0</td>\n",
       "      <td id=\"T_5a7c2_row0_col1\" class=\"data row0 col1\" >tiled_cpu</td>\n",
       "      <td id=\"T_5a7c2_row0_col2\" class=\"data row0 col2\" >4</td>\n",
       "      <td id=\"T_5a7c2_row0_col3\" class=\"data row0 col3\" >2048x2048x2048</td>\n",
       "      <td id=\"T_5a7c2_row0_col4\" class=\"data row0 col4\" >14922.239906</td>\n",
       "      <td id=\"T_5a7c2_row0_col5\" class=\"data row0 col5\" >1.150000</td>\n",
       "    </tr>\n",
       "    <tr>\n",
       "      <th id=\"T_5a7c2_level0_row1\" class=\"row_heading level0 row1\" >1</th>\n",
       "      <td id=\"T_5a7c2_row1_col0\" class=\"data row1 col0\" >1</td>\n",
       "      <td id=\"T_5a7c2_row1_col1\" class=\"data row1 col1\" >tiled</td>\n",
       "      <td id=\"T_5a7c2_row1_col2\" class=\"data row1 col2\" >4</td>\n",
       "      <td id=\"T_5a7c2_row1_col3\" class=\"data row1 col3\" > 2048x2048x2048</td>\n",
       "      <td id=\"T_5a7c2_row1_col4\" class=\"data row1 col4\" >54.060673</td>\n",
       "      <td id=\"T_5a7c2_row1_col5\" class=\"data row1 col5\" >317.790000</td>\n",
       "    </tr>\n",
       "    <tr>\n",
       "      <th id=\"T_5a7c2_level0_row2\" class=\"row_heading level0 row2\" >2</th>\n",
       "      <td id=\"T_5a7c2_row2_col0\" class=\"data row2 col0\" >2</td>\n",
       "      <td id=\"T_5a7c2_row2_col1\" class=\"data row2 col1\" >standard</td>\n",
       "      <td id=\"T_5a7c2_row2_col2\" class=\"data row2 col2\" >4</td>\n",
       "      <td id=\"T_5a7c2_row2_col3\" class=\"data row2 col3\" > 2048x2048x2048</td>\n",
       "      <td id=\"T_5a7c2_row2_col4\" class=\"data row2 col4\" >62.809311</td>\n",
       "      <td id=\"T_5a7c2_row2_col5\" class=\"data row2 col5\" >273.520000</td>\n",
       "    </tr>\n",
       "    <tr>\n",
       "      <th id=\"T_5a7c2_level0_row3\" class=\"row_heading level0 row3\" >3</th>\n",
       "      <td id=\"T_5a7c2_row3_col0\" class=\"data row3 col0\" >3</td>\n",
       "      <td id=\"T_5a7c2_row3_col1\" class=\"data row3 col1\" >tiled</td>\n",
       "      <td id=\"T_5a7c2_row3_col2\" class=\"data row3 col2\" >4</td>\n",
       "      <td id=\"T_5a7c2_row3_col3\" class=\"data row3 col3\" > 4096x4096x4096</td>\n",
       "      <td id=\"T_5a7c2_row3_col4\" class=\"data row3 col4\" >228.856674</td>\n",
       "      <td id=\"T_5a7c2_row3_col5\" class=\"data row3 col5\" >600.550000</td>\n",
       "    </tr>\n",
       "    <tr>\n",
       "      <th id=\"T_5a7c2_level0_row4\" class=\"row_heading level0 row4\" >4</th>\n",
       "      <td id=\"T_5a7c2_row4_col0\" class=\"data row4 col0\" >4</td>\n",
       "      <td id=\"T_5a7c2_row4_col1\" class=\"data row4 col1\" >standard</td>\n",
       "      <td id=\"T_5a7c2_row4_col2\" class=\"data row4 col2\" >4</td>\n",
       "      <td id=\"T_5a7c2_row4_col3\" class=\"data row4 col3\" > 4096x4096x4096</td>\n",
       "      <td id=\"T_5a7c2_row4_col4\" class=\"data row4 col4\" >347.617004</td>\n",
       "      <td id=\"T_5a7c2_row4_col5\" class=\"data row4 col5\" >395.370000</td>\n",
       "    </tr>\n",
       "    <tr>\n",
       "      <th id=\"T_5a7c2_level0_row5\" class=\"row_heading level0 row5\" >5</th>\n",
       "      <td id=\"T_5a7c2_row5_col0\" class=\"data row5 col0\" >5</td>\n",
       "      <td id=\"T_5a7c2_row5_col1\" class=\"data row5 col1\" >tiled</td>\n",
       "      <td id=\"T_5a7c2_row5_col2\" class=\"data row5 col2\" >4</td>\n",
       "      <td id=\"T_5a7c2_row5_col3\" class=\"data row5 col3\" > 8192x8192x8192</td>\n",
       "      <td id=\"T_5a7c2_row5_col4\" class=\"data row5 col4\" >1611.650879</td>\n",
       "      <td id=\"T_5a7c2_row5_col5\" class=\"data row5 col5\" >682.230000</td>\n",
       "    </tr>\n",
       "    <tr>\n",
       "      <th id=\"T_5a7c2_level0_row6\" class=\"row_heading level0 row6\" >6</th>\n",
       "      <td id=\"T_5a7c2_row6_col0\" class=\"data row6 col0\" >6</td>\n",
       "      <td id=\"T_5a7c2_row6_col1\" class=\"data row6 col1\" >standard</td>\n",
       "      <td id=\"T_5a7c2_row6_col2\" class=\"data row6 col2\" >4</td>\n",
       "      <td id=\"T_5a7c2_row6_col3\" class=\"data row6 col3\" > 8192x8192x8192</td>\n",
       "      <td id=\"T_5a7c2_row6_col4\" class=\"data row6 col4\" >2314.724854</td>\n",
       "      <td id=\"T_5a7c2_row6_col5\" class=\"data row6 col5\" >475.010000</td>\n",
       "    </tr>\n",
       "    <tr>\n",
       "      <th id=\"T_5a7c2_level0_row7\" class=\"row_heading level0 row7\" >7</th>\n",
       "      <td id=\"T_5a7c2_row7_col0\" class=\"data row7 col0\" >7</td>\n",
       "      <td id=\"T_5a7c2_row7_col1\" class=\"data row7 col1\" >tiled</td>\n",
       "      <td id=\"T_5a7c2_row7_col2\" class=\"data row7 col2\" >8</td>\n",
       "      <td id=\"T_5a7c2_row7_col3\" class=\"data row7 col3\" > 4096x4096x4096</td>\n",
       "      <td id=\"T_5a7c2_row7_col4\" class=\"data row7 col4\" >426.524170</td>\n",
       "      <td id=\"T_5a7c2_row7_col5\" class=\"data row7 col5\" >322.230000</td>\n",
       "    </tr>\n",
       "    <tr>\n",
       "      <th id=\"T_5a7c2_level0_row8\" class=\"row_heading level0 row8\" >8</th>\n",
       "      <td id=\"T_5a7c2_row8_col0\" class=\"data row8 col0\" >8</td>\n",
       "      <td id=\"T_5a7c2_row8_col1\" class=\"data row8 col1\" >tiled</td>\n",
       "      <td id=\"T_5a7c2_row8_col2\" class=\"data row8 col2\" >4</td>\n",
       "      <td id=\"T_5a7c2_row8_col3\" class=\"data row8 col3\" > 4096x4096x4096</td>\n",
       "      <td id=\"T_5a7c2_row8_col4\" class=\"data row8 col4\" >320.910461</td>\n",
       "      <td id=\"T_5a7c2_row8_col5\" class=\"data row8 col5\" >428.280000</td>\n",
       "    </tr>\n",
       "    <tr>\n",
       "      <th id=\"T_5a7c2_level0_row9\" class=\"row_heading level0 row9\" >9</th>\n",
       "      <td id=\"T_5a7c2_row9_col0\" class=\"data row9 col0\" >9</td>\n",
       "      <td id=\"T_5a7c2_row9_col1\" class=\"data row9 col1\" >tiled</td>\n",
       "      <td id=\"T_5a7c2_row9_col2\" class=\"data row9 col2\" >8</td>\n",
       "      <td id=\"T_5a7c2_row9_col3\" class=\"data row9 col3\" > 8192x8192x8192</td>\n",
       "      <td id=\"T_5a7c2_row9_col4\" class=\"data row9 col4\" >3750.508057</td>\n",
       "      <td id=\"T_5a7c2_row9_col5\" class=\"data row9 col5\" >293.160000</td>\n",
       "    </tr>\n",
       "    <tr>\n",
       "      <th id=\"T_5a7c2_level0_row10\" class=\"row_heading level0 row10\" >10</th>\n",
       "      <td id=\"T_5a7c2_row10_col0\" class=\"data row10 col0\" >10</td>\n",
       "      <td id=\"T_5a7c2_row10_col1\" class=\"data row10 col1\" >tiled</td>\n",
       "      <td id=\"T_5a7c2_row10_col2\" class=\"data row10 col2\" >4</td>\n",
       "      <td id=\"T_5a7c2_row10_col3\" class=\"data row10 col3\" > 8192x8192x8192</td>\n",
       "      <td id=\"T_5a7c2_row10_col4\" class=\"data row10 col4\" >1526.561035</td>\n",
       "      <td id=\"T_5a7c2_row10_col5\" class=\"data row10 col5\" >720.250000</td>\n",
       "    </tr>\n",
       "    <tr>\n",
       "      <th id=\"T_5a7c2_level0_row11\" class=\"row_heading level0 row11\" >11</th>\n",
       "      <td id=\"T_5a7c2_row11_col0\" class=\"data row11 col0\" >11</td>\n",
       "      <td id=\"T_5a7c2_row11_col1\" class=\"data row11 col1\" >tiled_rtx4090</td>\n",
       "      <td id=\"T_5a7c2_row11_col2\" class=\"data row11 col2\" >4</td>\n",
       "      <td id=\"T_5a7c2_row11_col3\" class=\"data row11 col3\" > 8192x8192x8192</td>\n",
       "      <td id=\"T_5a7c2_row11_col4\" class=\"data row11 col4\" >347.988403</td>\n",
       "      <td id=\"T_5a7c2_row11_col5\" class=\"data row11 col5\" >3159.620000</td>\n",
       "    </tr>\n",
       "    <tr>\n",
       "      <th id=\"T_5a7c2_level0_row12\" class=\"row_heading level0 row12\" >12</th>\n",
       "      <td id=\"T_5a7c2_row12_col0\" class=\"data row12 col0\" >12</td>\n",
       "      <td id=\"T_5a7c2_row12_col1\" class=\"data row12 col1\" >tiled_rtx4090</td>\n",
       "      <td id=\"T_5a7c2_row12_col2\" class=\"data row12 col2\" >4</td>\n",
       "      <td id=\"T_5a7c2_row12_col3\" class=\"data row12 col3\" > 4096x4096x4096</td>\n",
       "      <td id=\"T_5a7c2_row12_col4\" class=\"data row12 col4\" >49.296703</td>\n",
       "      <td id=\"T_5a7c2_row12_col5\" class=\"data row12 col5\" >2787.990000</td>\n",
       "    </tr>\n",
       "  </tbody>\n",
       "</table>\n"
      ],
      "text/plain": [
       "<pandas.io.formats.style.Styler at 0x7f204f3ef860>"
      ]
     },
     "metadata": {},
     "output_type": "display_data"
    }
   ],
   "source": [
    "display_df_mono(render_csv(\"./metrics/flops.csv\"))"
   ]
  },
  {
   "cell_type": "code",
   "execution_count": 11,
   "id": "00b29e0d-57a0-46e5-91cf-0b89656d96c1",
   "metadata": {},
   "outputs": [
    {
     "name": "stdout",
     "output_type": "stream",
     "text": [
      "3.431908758059813\n"
     ]
    }
   ],
   "source": [
    "FLOPS_Ratio = 3177.570000/925.890000\n",
    "print(FLOPS_Ratio)"
   ]
  },
  {
   "cell_type": "code",
   "execution_count": 12,
   "id": "54ec263a-370f-4557-a60c-4b6053bd1ee1",
   "metadata": {},
   "outputs": [
    {
     "name": "stdout",
     "output_type": "stream",
     "text": [
      "3.431931570602515\n"
     ]
    }
   ],
   "source": [
    "Speedup = 1187.524780/346.022278\t\n",
    "print(Speedup)"
   ]
  },
  {
   "cell_type": "markdown",
   "id": "453a194e-f865-4f11-bec3-63e0e8a8ce7a",
   "metadata": {},
   "source": [
    "## Does the FLOPS translate to other applications?"
   ]
  },
  {
   "cell_type": "code",
   "execution_count": 40,
   "id": "e7b788b5-f68a-4961-86dc-5b3f9c6e238c",
   "metadata": {},
   "outputs": [
    {
     "name": "stdout",
     "output_type": "stream",
     "text": [
      "make: Entering directory '/nfshome/htseng/courses/CS203/demo/throughput_latency/gpusort'\n",
      "rm -f\t*.o hybridsort hybridsort_cpu bitonic\n",
      "make: Leaving directory '/nfshome/htseng/courses/CS203/demo/throughput_latency/gpusort'\n",
      "make: Entering directory '/nfshome/htseng/courses/CS203/demo/throughput_latency/gpusort'\n",
      "/usr/local/cuda/bin/nvcc -O3 -DBLOCKS=8192 bitonic.cu -o bitonic\n",
      "nvcc warning : Support for offline compilation for architectures prior to '<compute/sm/lto>_75' will be removed in a future release (Use -Wno-deprecated-gpu-targets to suppress warning).\n",
      "make: Leaving directory '/nfshome/htseng/courses/CS203/demo/throughput_latency/gpusort'\n"
     ]
    }
   ],
   "source": [
    "! make -C gpusort clean; make -C gpusort bitonic CFLAGS=-DBLOCKS=8192"
   ]
  },
  {
   "cell_type": "code",
   "execution_count": 44,
   "id": "47840371-71fb-4bf8-8138-996496f0588f",
   "metadata": {},
   "outputs": [
    {
     "name": "stdout",
     "output_type": "stream",
     "text": [
      "Sorting 8388608 numbers\n",
      "Elapsed time: 0.212s\n",
      "SORTING SUCCESSFUL\n",
      "\n",
      "real\t0m0.358s\n",
      "user\t0m0.212s\n",
      "sys\t0m0.137s\n"
     ]
    }
   ],
   "source": [
    "! time ./gpusort/bitonic"
   ]
  },
  {
   "cell_type": "code",
   "execution_count": 45,
   "id": "60ed559d-2d7e-4a88-9c27-0f45cc8959a6",
   "metadata": {},
   "outputs": [
    {
     "name": "stdout",
     "output_type": "stream",
     "text": [
      "make: Entering directory '/nfshome/htseng/courses/CS203/demo/throughput_latency/gpusort'\n",
      "rm -f\t*.o hybridsort hybridsort_cpu bitonic\n",
      "make: Leaving directory '/nfshome/htseng/courses/CS203/demo/throughput_latency/gpusort'\n",
      "make: Entering directory '/nfshome/htseng/courses/CS203/demo/throughput_latency/gpusort'\n",
      "/usr/local/cuda/bin/nvcc -O3 -DBLOCKS=8192 bitonic.cu -o bitonic\n",
      "make: Leaving directory '/nfshome/htseng/courses/CS203/demo/throughput_latency/gpusort'\n",
      "Sorting 8388608 numbers\n",
      "Elapsed time: 0.166s\n",
      "SORTING SUCCESSFUL\n",
      "\n",
      "real\t0m0.315s\n",
      "user\t0m0.108s\n",
      "sys\t0m0.201s\n"
     ]
    }
   ],
   "source": [
    "! ssh htseng@lapras \"cd /nfshome/htseng/courses/CS203/demo/throughput_latency/; make -C gpusort clean; make -C gpusort bitonic CFLAGS=-DBLOCKS=8192; time ./gpusort/bitonic\""
   ]
  },
  {
   "cell_type": "code",
   "execution_count": null,
   "id": "23ddfcef-2f14-4041-96a8-8da4edbb023e",
   "metadata": {},
   "outputs": [],
   "source": []
  }
 ],
 "metadata": {
  "kernelspec": {
   "display_name": "Python 3 (ipykernel)",
   "language": "python",
   "name": "python3"
  },
  "language_info": {
   "codemirror_mode": {
    "name": "ipython",
    "version": 3
   },
   "file_extension": ".py",
   "mimetype": "text/x-python",
   "name": "python",
   "nbconvert_exporter": "python",
   "pygments_lexer": "ipython3",
   "version": "3.12.3"
  },
  "widgets": {
   "application/vnd.jupyter.widget-state+json": {
    "state": {},
    "version_major": 2,
    "version_minor": 0
   }
  }
 },
 "nbformat": 4,
 "nbformat_minor": 5
}
